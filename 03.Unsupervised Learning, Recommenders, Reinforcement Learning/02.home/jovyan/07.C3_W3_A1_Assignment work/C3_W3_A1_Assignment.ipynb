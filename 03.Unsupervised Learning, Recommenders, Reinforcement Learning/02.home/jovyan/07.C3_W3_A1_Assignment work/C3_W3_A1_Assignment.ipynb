{
 "cells": [
  {
   "cell_type": "markdown",
   "metadata": {},
   "source": [
    "# Deep Q-Learning - Lunar Lander\n",
    "\n",
    "In this assignment, you will train an agent to land a lunar lander safely on a landing pad on the surface of the moon.\n",
    "\n",
    "\n",
    "# Outline\n",
    "- [ 1 - Import Packages <img align=\"Right\" src=\"./images/lunar_lander.gif\" width = 60% >](#1)\n",
    "- [ 2 - Hyperparameters](#2)\n",
    "- [ 3 - The Lunar Lander Environment](#3)\n",
    "  - [ 3.1 Action Space](#3.1)\n",
    "  - [ 3.2 Observation Space](#3.2)\n",
    "  - [ 3.3 Rewards](#3.3)\n",
    "  - [ 3.4 Episode Termination](#3.4)\n",
    "- [ 4 - Load the Environment](#4)\n",
    "- [ 5 - Interacting with the Gym Environment](#5)\n",
    "    - [ 5.1 Exploring the Environment's Dynamics](#5.1)\n",
    "- [ 6 - Deep Q-Learning](#6)\n",
    "  - [ 6.1 Target Network](#6.1)\n",
    "    - [ Exercise 1](#ex01)\n",
    "  - [ 6.2 Experience Replay](#6.2)\n",
    "- [ 7 - Deep Q-Learning Algorithm with Experience Replay](#7)\n",
    "  - [ Exercise 2](#ex02)\n",
    "- [ 8 - Update the Network Weights](#8)\n",
    "- [ 9 - Train the Agent](#9)\n",
    "- [ 10 - See the Trained Agent In Action](#10)\n",
    "- [ 11 - Congratulations!](#11)\n",
    "- [ 12 - References](#12)\n"
   ]
  },
  {
   "cell_type": "markdown",
   "metadata": {},
   "source": [
    "_**NOTE:** To prevent errors from the autograder, you are not allowed to edit or delete non-graded cells in this lab. Please also refrain from adding any new cells. \n",
    "**Once you have passed this assignment** and want to experiment with any of the non-graded code, you may follow the instructions at the bottom of this notebook._"
   ]
  },
  {
   "cell_type": "markdown",
   "metadata": {
    "editable": true,
    "slideshow": {
     "slide_type": ""
    },
    "tags": []
   },
   "source": [
    "<a name=\"1\"></a>\n",
    "## 1 - Import Packages\n",
    "\n",
    "We'll make use of the following packages:\n",
    "- `numpy` is a package for scientific computing in python.\n",
    "- `deque` will be our data structure for our memory buffer.\n",
    "- `namedtuple` will be used to store the experience tuples.\n",
    "- The `gym` toolkit is a collection of environments that can be used to test reinforcement learning algorithms. We should note that in this notebook we are using `gym` version `0.24.0`.\n",
    "- `PIL.Image` and `pyvirtualdisplay` are needed to render the Lunar Lander environment.\n",
    "- We will use several modules from the `tensorflow.keras` framework for building deep learning models.\n",
    "- `utils` is a module that contains helper functions for this assignment. You do not need to modify the code in this file.\n",
    "\n",
    "Run the cell below to import all the necessary packages."
   ]
  },
  {
   "cell_type": "code",
   "execution_count": 1,
   "metadata": {
    "deletable": false,
    "editable": true,
    "id": "KYbOPKRtfQOr",
    "slideshow": {
     "slide_type": ""
    },
    "tags": []
   },
   "outputs": [
    {
     "name": "stderr",
     "output_type": "stream",
     "text": [
      "2024-03-26 02:51:47.293031: I tensorflow/core/util/port.cc:113] oneDNN custom operations are on. You may see slightly different numerical results due to floating-point round-off errors from different computation orders. To turn them off, set the environment variable `TF_ENABLE_ONEDNN_OPTS=0`.\n",
      "2024-03-26 02:51:47.934149: I tensorflow/core/platform/cpu_feature_guard.cc:210] This TensorFlow binary is optimized to use available CPU instructions in performance-critical operations.\n",
      "To enable the following instructions: AVX2 AVX512F AVX512_VNNI FMA, in other operations, rebuild TensorFlow with the appropriate compiler flags.\n"
     ]
    }
   ],
   "source": [
    "import os\n",
    "os.environ[\"TF_USE_LEGACY_KERAS\"] = \"1\"\n",
    "\n",
    "import time\n",
    "from collections import deque, namedtuple\n",
    "\n",
    "#import gym\n",
    "import gymnasium as gym\n",
    "\n",
    "import numpy as np\n",
    "import PIL.Image\n",
    "import tensorflow as tf\n",
    "import utils\n",
    "\n",
    "from pyvirtualdisplay import Display\n",
    "from tensorflow.keras import Sequential\n",
    "from tensorflow.keras.layers import Dense, Input\n",
    "from tensorflow.keras.losses import MSE\n",
    "from tensorflow.keras.optimizers import Adam"
   ]
  },
  {
   "cell_type": "code",
   "execution_count": 2,
   "metadata": {
    "editable": true,
    "slideshow": {
     "slide_type": ""
    },
    "tags": []
   },
   "outputs": [
    {
     "data": {
      "text/plain": [
       "'\\nprint(tf.config.list_physical_devices(\\'GPU\\'))\\nfrom tensorflow.python.platform import build_info as tf_build_info\\n\\nprint(\"cudnn_version\",tf_build_info.build_info[\\'cudnn_version\\'])\\nprint(\"cuda_version\",tf_build_info.build_info[\\'cuda_version\\'])\\n\\n#import pyvirtualdisplay\\n#print(pyvirtualdisplay.__version__)\\n#help(pyvirtualdisplay)\\n'"
      ]
     },
     "execution_count": 2,
     "metadata": {},
     "output_type": "execute_result"
    }
   ],
   "source": [
    "'''\n",
    "print(tf.config.list_physical_devices('GPU'))\n",
    "from tensorflow.python.platform import build_info as tf_build_info\n",
    "\n",
    "print(\"cudnn_version\",tf_build_info.build_info['cudnn_version'])\n",
    "print(\"cuda_version\",tf_build_info.build_info['cuda_version'])\n",
    "\n",
    "#import pyvirtualdisplay\n",
    "#print(pyvirtualdisplay.__version__)\n",
    "#help(pyvirtualdisplay)\n",
    "'''"
   ]
  },
  {
   "cell_type": "code",
   "execution_count": 3,
   "metadata": {
    "deletable": false,
    "editable": true,
    "slideshow": {
     "slide_type": ""
    },
    "tags": []
   },
   "outputs": [],
   "source": [
    "# Set up a virtual display to render the Lunar Lander environment.\n",
    "#Display(visible=True, backend='xvnc', size=(840, 480)).start();\n",
    "Display(visible=0, size=(840, 480)).start();\n",
    "\n",
    "# Set the random seed for TensorFlow\n",
    "tf.random.set_seed(utils.SEED)"
   ]
  },
  {
   "cell_type": "markdown",
   "metadata": {
    "editable": true,
    "slideshow": {
     "slide_type": ""
    },
    "tags": []
   },
   "source": [
    "<a name=\"2\"></a>\n",
    "## 2 - Hyperparameters\n",
    "\n",
    "Run the cell below to set the hyperparameters."
   ]
  },
  {
   "cell_type": "code",
   "execution_count": 4,
   "metadata": {
    "deletable": false,
    "editable": false,
    "slideshow": {
     "slide_type": ""
    },
    "tags": []
   },
   "outputs": [],
   "source": [
    "MEMORY_SIZE = 100_000     # size of memory buffer\n",
    "GAMMA = 0.995             # discount factor\n",
    "ALPHA = 1e-3              # learning rate  \n",
    "NUM_STEPS_FOR_UPDATE = 4  # perform a learning update every C time steps"
   ]
  },
  {
   "cell_type": "markdown",
   "metadata": {
    "editable": true,
    "slideshow": {
     "slide_type": ""
    },
    "tags": []
   },
   "source": [
    "<a name=\"3\"></a>\n",
    "## 3 - The Lunar Lander Environment\n",
    "\n",
    "In this notebook we will be using [OpenAI's Gym Library](https://www.gymlibrary.dev/). The Gym library provides a wide variety of environments for reinforcement learning. To put it simply, an environment represents a problem or task to be solved. In this notebook, we will try to solve the Lunar Lander environment using reinforcement learning.\n",
    "\n",
    "The goal of the Lunar Lander environment is to land the lunar lander safely on the landing pad on the surface of the moon. The landing pad is designated by two flag poles and its center is at coordinates `(0,0)` but the lander is also allowed to land outside of the landing pad. The lander starts at the top center of the environment with a random initial force applied to its center of mass and has infinite fuel. The environment is considered solved if you get `200` points. \n",
    "\n",
    "<br>\n",
    "<br>\n",
    "<figure>\n",
    "  <img src = \"images/lunar_lander.gif\" width = 40%>\n",
    "      <figcaption style = \"text-align: center; font-style: italic\">Fig 1. Lunar Lander Environment.</figcaption>\n",
    "</figure>\n",
    "\n",
    "\n",
    "\n",
    "<a name=\"3.1\"></a>\n",
    "### 3.1 Action Space\n",
    "\n",
    "The agent has four discrete actions available:\n",
    "\n",
    "* Do nothing.\n",
    "* Fire right engine.\n",
    "* Fire main engine.\n",
    "* Fire left engine.\n",
    "\n",
    "Each action has a corresponding numerical value:\n",
    "\n",
    "```python\n",
    "Do nothing = 0\n",
    "Fire right engine = 1\n",
    "Fire main engine = 2\n",
    "Fire left engine = 3\n",
    "```\n",
    "\n",
    "<a name=\"3.2\"></a>\n",
    "### 3.2 Observation Space\n",
    "\n",
    "The agent's observation space consists of a state vector with 8 variables:\n",
    "\n",
    "* Its $(x,y)$ coordinates. The landing pad is always at coordinates $(0,0)$.\n",
    "* Its linear velocities $(\\dot x,\\dot y)$.\n",
    "* Its angle $\\theta$.\n",
    "* Its angular velocity $\\dot \\theta$.\n",
    "* Two booleans, $l$ and $r$, that represent whether each leg is in contact with the ground or not.\n",
    "\n",
    "<a name=\"3.3\"></a>\n",
    "### 3.3 Rewards\n",
    "\n",
    "After every step, a reward is granted. The total reward of an episode is the sum of the rewards for all the steps within that episode.\n",
    "\n",
    "For each step, the reward:\n",
    "- is increased/decreased the closer/further the lander is to the landing pad.\n",
    "- is increased/decreased the slower/faster the lander is moving.\n",
    "- is decreased the more the lander is tilted (angle not horizontal).\n",
    "- is increased by 10 points for each leg that is in contact with the ground.\n",
    "- is decreased by 0.03 points each frame a side engine is firing.\n",
    "- is decreased by 0.3 points each frame the main engine is firing.\n",
    "\n",
    "The episode receives an additional reward of -100 or +100 points for crashing or landing safely respectively.\n",
    "\n",
    "<a name=\"3.4\"></a>\n",
    "### 3.4 Episode Termination\n",
    "\n",
    "An episode ends (i.e the environment enters a terminal state) if:\n",
    "\n",
    "* The lunar lander crashes (i.e if the body of the lunar lander comes in contact with the surface of the moon).\n",
    "\n",
    "* The absolute value of the lander's $x$-coordinate is greater than 1 (i.e. it goes beyond the left or right border)\n",
    "\n",
    "You can check out the [Open AI Gym documentation](https://www.gymlibrary.dev/environments/box2d/lunar_lander/) for a full description of the environment. "
   ]
  },
  {
   "cell_type": "markdown",
   "metadata": {},
   "source": [
    "<a name=\"4\"></a>\n",
    "## 4 - Load the Environment\n",
    "\n",
    "We start by loading the `LunarLander-v2` environment from the `gym` library by using the `.make()` method. `LunarLander-v2` is the latest version of the Lunar Lander environment and you can read about its version history in the [Open AI Gym documentation](https://www.gymlibrary.dev/environments/box2d/lunar_lander/#version-history)."
   ]
  },
  {
   "cell_type": "code",
   "execution_count": 5,
   "metadata": {
    "deletable": false,
    "editable": true,
    "id": "ILVMYKewfR0n",
    "slideshow": {
     "slide_type": ""
    },
    "tags": []
   },
   "outputs": [],
   "source": [
    "#env = gym.make('LunarLander-v2')\n",
    "env = gym.make('LunarLander-v2', render_mode='rgb_array')"
   ]
  },
  {
   "cell_type": "markdown",
   "metadata": {
    "editable": true,
    "slideshow": {
     "slide_type": ""
    },
    "tags": []
   },
   "source": [
    "Once we load the environment we use the `.reset()` method to reset the environment to the initial state. The lander starts at the top center of the environment and we can render the first frame of the environment by using the `.render()` method."
   ]
  },
  {
   "cell_type": "code",
   "execution_count": 6,
   "metadata": {
    "deletable": false,
    "editable": true,
    "slideshow": {
     "slide_type": ""
    },
    "tags": []
   },
   "outputs": [
    {
     "data": {
      "image/jpeg": "[encoded data removed]",
      "image/png": "[encoded data removed]",
      "text/plain": [
       "<PIL.Image.Image image mode=RGB size=600x400>"
      ]
     },
     "execution_count": 6,
     "metadata": {},
     "output_type": "execute_result"
    }
   ],
   "source": [
    "env.reset()\n",
    "#PIL.Image.fromarray(env.render(mode='rgb_array'))\n",
    "PIL.Image.fromarray(env.render())"
   ]
  },
  {
   "cell_type": "markdown",
   "metadata": {
    "editable": true,
    "slideshow": {
     "slide_type": ""
    },
    "tags": []
   },
   "source": [
    "In order to build our neural network later on we need to know the size of the state vector and the number of valid actions. We can get this information from our environment by using the `.observation_space.shape` and `action_space.n` methods, respectively."
   ]
  },
  {
   "cell_type": "code",
   "execution_count": 7,
   "metadata": {
    "deletable": false,
    "editable": false,
    "id": "x3fdqdG4CUu2",
    "slideshow": {
     "slide_type": ""
    },
    "tags": []
   },
   "outputs": [
    {
     "name": "stdout",
     "output_type": "stream",
     "text": [
      "State Shape: (8,)\n",
      "Number of actions: 4\n"
     ]
    }
   ],
   "source": [
    "state_size = env.observation_space.shape\n",
    "num_actions = env.action_space.n\n",
    "\n",
    "print('State Shape:', state_size)\n",
    "print('Number of actions:', num_actions)"
   ]
  },
  {
   "cell_type": "markdown",
   "metadata": {
    "editable": true,
    "slideshow": {
     "slide_type": ""
    },
    "tags": []
   },
   "source": [
    "<a name=\"5\"></a>\n",
    "## 5 - Interacting with the Gym Environment\n",
    "\n",
    "The Gym library implements the standard “agent-environment loop” formalism:\n",
    "\n",
    "<br>\n",
    "<center>\n",
    "<video src = \"./videos/rl_formalism.m4v\" width=\"840\" height=\"480\" controls autoplay loop poster=\"./images/rl_formalism.png\"> </video>\n",
    "<figcaption style = \"text-align:center; font-style:italic\">Fig 2. Agent-environment Loop Formalism.</figcaption>\n",
    "</center>\n",
    "<br>\n",
    "\n",
    "In the standard “agent-environment loop” formalism, an agent interacts with the environment in discrete time steps $t=0,1,2,...$. At each time step $t$, the agent uses a policy $\\pi$ to select an action $A_t$ based on its observation of the environment's state $S_t$. The agent receives a numerical reward $R_t$ and on the next time step, moves to a new state $S_{t+1}$.\n",
    "\n",
    "<a name=\"5.1\"></a>\n",
    "### 5.1 Exploring the Environment's Dynamics\n",
    "\n",
    "In Open AI's Gym environments, we use the `.step()` method to run a single time step of the environment's dynamics. In the version of `gym` that we are using the `.step()` method accepts an action and returns four values:\n",
    "\n",
    "* `observation` (**object**): an environment-specific object representing your observation of the environment. In the Lunar Lander environment this corresponds to a numpy array containing the positions and velocities of the lander as described in section [3.2 Observation Space](#3.2).\n",
    "\n",
    "\n",
    "* `reward` (**float**): amount of reward returned as a result of taking the given action. In the Lunar Lander environment this corresponds to a float of type `numpy.float64` as described in section [3.3 Rewards](#3.3).\n",
    "\n",
    "\n",
    "* `done` (**boolean**): When done is `True`, it indicates the episode has terminated and it’s time to reset the environment. \n",
    "\n",
    "\n",
    "* `info` (**dictionary**): diagnostic information useful for debugging. We won't be using this variable in this notebook but it is shown here for completeness.\n",
    "\n",
    "To begin an episode, we need to reset the environment to an initial state. We do this by using the `.reset()` method. "
   ]
  },
  {
   "cell_type": "code",
   "execution_count": 8,
   "metadata": {
    "deletable": false,
    "editable": true,
    "slideshow": {
     "slide_type": ""
    },
    "tags": []
   },
   "outputs": [],
   "source": [
    "# Reset the environment and get the initial state.\n",
    "current_state, dictinfo = env.reset()"
   ]
  },
  {
   "cell_type": "markdown",
   "metadata": {
    "editable": true,
    "slideshow": {
     "slide_type": ""
    },
    "tags": []
   },
   "source": [
    "Once the environment is reset, the agent can start taking actions in the environment by using the `.step()` method. Note that the agent can only take one action per time step. \n",
    "\n",
    "In the cell below you can select different actions and see how the returned values change depending on the action taken. Remember that in this environment the agent has four discrete actions available and we specify them in code by using their corresponding numerical value:\n",
    "\n",
    "```python\n",
    "Do nothing = 0\n",
    "Fire right engine = 1\n",
    "Fire main engine = 2\n",
    "Fire left engine = 3\n",
    "```"
   ]
  },
  {
   "cell_type": "code",
   "execution_count": 9,
   "metadata": {
    "deletable": false,
    "editable": true,
    "slideshow": {
     "slide_type": ""
    },
    "tags": []
   },
   "outputs": [
    {
     "data": {
      "text/html": [
       "<style type=\"text/css\">\n",
       "#T_ca4f4 th {\n",
       "  border: 1px solid grey;\n",
       "  text-align: center;\n",
       "}\n",
       "#T_ca4f4 tbody td {\n",
       "  border: 1px solid grey;\n",
       "  text-align: center;\n",
       "}\n",
       "#T_ca4f4_row0_col0, #T_ca4f4_row1_col1, #T_ca4f4_row1_col2, #T_ca4f4_row1_col3, #T_ca4f4_row1_col4, #T_ca4f4_row1_col5, #T_ca4f4_row1_col6, #T_ca4f4_row1_col7, #T_ca4f4_row1_col8, #T_ca4f4_row1_col9, #T_ca4f4_row1_col10, #T_ca4f4_row1_col11, #T_ca4f4_row2_col0, #T_ca4f4_row3_col1, #T_ca4f4_row3_col2, #T_ca4f4_row3_col3, #T_ca4f4_row3_col4, #T_ca4f4_row3_col5, #T_ca4f4_row3_col6, #T_ca4f4_row3_col7, #T_ca4f4_row3_col8, #T_ca4f4_row3_col9, #T_ca4f4_row3_col10, #T_ca4f4_row3_col11, #T_ca4f4_row4_col1, #T_ca4f4_row4_col2, #T_ca4f4_row4_col3, #T_ca4f4_row4_col4, #T_ca4f4_row4_col5, #T_ca4f4_row4_col6, #T_ca4f4_row4_col7, #T_ca4f4_row4_col8, #T_ca4f4_row4_col9, #T_ca4f4_row4_col10, #T_ca4f4_row4_col11 {\n",
       "  background-color: grey;\n",
       "}\n",
       "</style>\n",
       "<table id=\"T_ca4f4\">\n",
       "  <thead>\n",
       "    <tr>\n",
       "      <th class=\"blank level0\" >&nbsp;</th>\n",
       "      <th id=\"T_ca4f4_level0_col0\" class=\"col_heading level0 col0\" ></th>\n",
       "      <th id=\"T_ca4f4_level0_col1\" class=\"col_heading level0 col1\" colspan=\"8\">State Vector</th>\n",
       "      <th id=\"T_ca4f4_level0_col9\" class=\"col_heading level0 col9\" colspan=\"3\">Derived from the State Vector (the closer to zero, the better)</th>\n",
       "    </tr>\n",
       "    <tr>\n",
       "      <th class=\"blank level1\" >&nbsp;</th>\n",
       "      <th id=\"T_ca4f4_level1_col0\" class=\"col_heading level1 col0\" ></th>\n",
       "      <th id=\"T_ca4f4_level1_col1\" class=\"col_heading level1 col1\" colspan=\"2\">Coordinate</th>\n",
       "      <th id=\"T_ca4f4_level1_col3\" class=\"col_heading level1 col3\" colspan=\"2\">Velocity</th>\n",
       "      <th id=\"T_ca4f4_level1_col5\" class=\"col_heading level1 col5\" colspan=\"2\">Tilting</th>\n",
       "      <th id=\"T_ca4f4_level1_col7\" class=\"col_heading level1 col7\" colspan=\"2\">Ground contact</th>\n",
       "      <th id=\"T_ca4f4_level1_col9\" class=\"col_heading level1 col9\" >Distance from landing pad</th>\n",
       "      <th id=\"T_ca4f4_level1_col10\" class=\"col_heading level1 col10\" >Velocity</th>\n",
       "      <th id=\"T_ca4f4_level1_col11\" class=\"col_heading level1 col11\" >Tilting Angle (absolute value)</th>\n",
       "    </tr>\n",
       "    <tr>\n",
       "      <th class=\"blank level2\" >&nbsp;</th>\n",
       "      <th id=\"T_ca4f4_level2_col0\" class=\"col_heading level2 col0\" ></th>\n",
       "      <th id=\"T_ca4f4_level2_col1\" class=\"col_heading level2 col1\" >X (Horizontal)</th>\n",
       "      <th id=\"T_ca4f4_level2_col2\" class=\"col_heading level2 col2\" >Y (Vertical)</th>\n",
       "      <th id=\"T_ca4f4_level2_col3\" class=\"col_heading level2 col3\" >X (Horizontal)</th>\n",
       "      <th id=\"T_ca4f4_level2_col4\" class=\"col_heading level2 col4\" >Y (Vertical)</th>\n",
       "      <th id=\"T_ca4f4_level2_col5\" class=\"col_heading level2 col5\" >Angle</th>\n",
       "      <th id=\"T_ca4f4_level2_col6\" class=\"col_heading level2 col6\" >Angular Velocity</th>\n",
       "      <th id=\"T_ca4f4_level2_col7\" class=\"col_heading level2 col7\" >Left Leg?</th>\n",
       "      <th id=\"T_ca4f4_level2_col8\" class=\"col_heading level2 col8\" >Right Leg?</th>\n",
       "      <th id=\"T_ca4f4_level2_col9\" class=\"col_heading level2 col9\" ></th>\n",
       "      <th id=\"T_ca4f4_level2_col10\" class=\"col_heading level2 col10\" ></th>\n",
       "      <th id=\"T_ca4f4_level2_col11\" class=\"col_heading level2 col11\" ></th>\n",
       "    </tr>\n",
       "  </thead>\n",
       "  <tbody>\n",
       "    <tr>\n",
       "      <th id=\"T_ca4f4_level0_row0\" class=\"row_heading level0 row0\" >Current State</th>\n",
       "      <td id=\"T_ca4f4_row0_col0\" class=\"data row0 col0\" ></td>\n",
       "      <td id=\"T_ca4f4_row0_col1\" class=\"data row0 col1\" >0.001978</td>\n",
       "      <td id=\"T_ca4f4_row0_col2\" class=\"data row0 col2\" >1.413624</td>\n",
       "      <td id=\"T_ca4f4_row0_col3\" class=\"data row0 col3\" >0.200329</td>\n",
       "      <td id=\"T_ca4f4_row0_col4\" class=\"data row0 col4\" >0.120190</td>\n",
       "      <td id=\"T_ca4f4_row0_col5\" class=\"data row0 col5\" >-0.002285</td>\n",
       "      <td id=\"T_ca4f4_row0_col6\" class=\"data row0 col6\" >-0.045378</td>\n",
       "      <td id=\"T_ca4f4_row0_col7\" class=\"data row0 col7\" >False</td>\n",
       "      <td id=\"T_ca4f4_row0_col8\" class=\"data row0 col8\" >False</td>\n",
       "      <td id=\"T_ca4f4_row0_col9\" class=\"data row0 col9\" >1.413626</td>\n",
       "      <td id=\"T_ca4f4_row0_col10\" class=\"data row0 col10\" >0.233618</td>\n",
       "      <td id=\"T_ca4f4_row0_col11\" class=\"data row0 col11\" >0.002285</td>\n",
       "    </tr>\n",
       "    <tr>\n",
       "      <th id=\"T_ca4f4_level0_row1\" class=\"row_heading level0 row1\" >Action</th>\n",
       "      <td id=\"T_ca4f4_row1_col0\" class=\"data row1 col0\" >Do nothing</td>\n",
       "      <td id=\"T_ca4f4_row1_col1\" class=\"data row1 col1\" ></td>\n",
       "      <td id=\"T_ca4f4_row1_col2\" class=\"data row1 col2\" ></td>\n",
       "      <td id=\"T_ca4f4_row1_col3\" class=\"data row1 col3\" ></td>\n",
       "      <td id=\"T_ca4f4_row1_col4\" class=\"data row1 col4\" ></td>\n",
       "      <td id=\"T_ca4f4_row1_col5\" class=\"data row1 col5\" ></td>\n",
       "      <td id=\"T_ca4f4_row1_col6\" class=\"data row1 col6\" ></td>\n",
       "      <td id=\"T_ca4f4_row1_col7\" class=\"data row1 col7\" ></td>\n",
       "      <td id=\"T_ca4f4_row1_col8\" class=\"data row1 col8\" ></td>\n",
       "      <td id=\"T_ca4f4_row1_col9\" class=\"data row1 col9\" ></td>\n",
       "      <td id=\"T_ca4f4_row1_col10\" class=\"data row1 col10\" ></td>\n",
       "      <td id=\"T_ca4f4_row1_col11\" class=\"data row1 col11\" ></td>\n",
       "    </tr>\n",
       "    <tr>\n",
       "      <th id=\"T_ca4f4_level0_row2\" class=\"row_heading level0 row2\" >Next State</th>\n",
       "      <td id=\"T_ca4f4_row2_col0\" class=\"data row2 col0\" ></td>\n",
       "      <td id=\"T_ca4f4_row2_col1\" class=\"data row2 col1\" >0.003956</td>\n",
       "      <td id=\"T_ca4f4_row2_col2\" class=\"data row2 col2\" >1.415751</td>\n",
       "      <td id=\"T_ca4f4_row2_col3\" class=\"data row2 col3\" >0.200059</td>\n",
       "      <td id=\"T_ca4f4_row2_col4\" class=\"data row2 col4\" >0.094505</td>\n",
       "      <td id=\"T_ca4f4_row2_col5\" class=\"data row2 col5\" >-0.004527</td>\n",
       "      <td id=\"T_ca4f4_row2_col6\" class=\"data row2 col6\" >-0.044849</td>\n",
       "      <td id=\"T_ca4f4_row2_col7\" class=\"data row2 col7\" >False</td>\n",
       "      <td id=\"T_ca4f4_row2_col8\" class=\"data row2 col8\" >False</td>\n",
       "      <td id=\"T_ca4f4_row2_col9\" class=\"data row2 col9\" >1.415756</td>\n",
       "      <td id=\"T_ca4f4_row2_col10\" class=\"data row2 col10\" >0.221257</td>\n",
       "      <td id=\"T_ca4f4_row2_col11\" class=\"data row2 col11\" >0.004527</td>\n",
       "    </tr>\n",
       "    <tr>\n",
       "      <th id=\"T_ca4f4_level0_row3\" class=\"row_heading level0 row3\" >Reward</th>\n",
       "      <td id=\"T_ca4f4_row3_col0\" class=\"data row3 col0\" >0.798822</td>\n",
       "      <td id=\"T_ca4f4_row3_col1\" class=\"data row3 col1\" ></td>\n",
       "      <td id=\"T_ca4f4_row3_col2\" class=\"data row3 col2\" ></td>\n",
       "      <td id=\"T_ca4f4_row3_col3\" class=\"data row3 col3\" ></td>\n",
       "      <td id=\"T_ca4f4_row3_col4\" class=\"data row3 col4\" ></td>\n",
       "      <td id=\"T_ca4f4_row3_col5\" class=\"data row3 col5\" ></td>\n",
       "      <td id=\"T_ca4f4_row3_col6\" class=\"data row3 col6\" ></td>\n",
       "      <td id=\"T_ca4f4_row3_col7\" class=\"data row3 col7\" ></td>\n",
       "      <td id=\"T_ca4f4_row3_col8\" class=\"data row3 col8\" ></td>\n",
       "      <td id=\"T_ca4f4_row3_col9\" class=\"data row3 col9\" ></td>\n",
       "      <td id=\"T_ca4f4_row3_col10\" class=\"data row3 col10\" ></td>\n",
       "      <td id=\"T_ca4f4_row3_col11\" class=\"data row3 col11\" ></td>\n",
       "    </tr>\n",
       "    <tr>\n",
       "      <th id=\"T_ca4f4_level0_row4\" class=\"row_heading level0 row4\" >Episode Terminated</th>\n",
       "      <td id=\"T_ca4f4_row4_col0\" class=\"data row4 col0\" >False</td>\n",
       "      <td id=\"T_ca4f4_row4_col1\" class=\"data row4 col1\" ></td>\n",
       "      <td id=\"T_ca4f4_row4_col2\" class=\"data row4 col2\" ></td>\n",
       "      <td id=\"T_ca4f4_row4_col3\" class=\"data row4 col3\" ></td>\n",
       "      <td id=\"T_ca4f4_row4_col4\" class=\"data row4 col4\" ></td>\n",
       "      <td id=\"T_ca4f4_row4_col5\" class=\"data row4 col5\" ></td>\n",
       "      <td id=\"T_ca4f4_row4_col6\" class=\"data row4 col6\" ></td>\n",
       "      <td id=\"T_ca4f4_row4_col7\" class=\"data row4 col7\" ></td>\n",
       "      <td id=\"T_ca4f4_row4_col8\" class=\"data row4 col8\" ></td>\n",
       "      <td id=\"T_ca4f4_row4_col9\" class=\"data row4 col9\" ></td>\n",
       "      <td id=\"T_ca4f4_row4_col10\" class=\"data row4 col10\" ></td>\n",
       "      <td id=\"T_ca4f4_row4_col11\" class=\"data row4 col11\" ></td>\n",
       "    </tr>\n",
       "  </tbody>\n",
       "</table>\n"
      ],
      "text/plain": [
       "<pandas.io.formats.style.Styler at 0x7f905afeb850>"
      ]
     },
     "metadata": {},
     "output_type": "display_data"
    }
   ],
   "source": [
    "# Select an action\n",
    "action = 0\n",
    "\n",
    "# Run a single time step of the environment's dynamics with the given action.\n",
    "#next_state, reward, done, _ = env.step(action)\n",
    "next_state, reward, done, _1, dictinfo = env.step(action)\n",
    "\n",
    "\n",
    "# Display table with values.\n",
    "utils.display_table(current_state, action, next_state, reward, done)\n",
    "\n",
    "# Replace the `current_state` with the state after the action is taken\n",
    "current_state = next_state"
   ]
  },
  {
   "cell_type": "markdown",
   "metadata": {
    "editable": true,
    "slideshow": {
     "slide_type": ""
    },
    "tags": []
   },
   "source": [
    "In practice, when we train the agent we use a loop to allow the agent to take many consecutive actions during an episode."
   ]
  },
  {
   "cell_type": "markdown",
   "metadata": {},
   "source": [
    "<a name=\"6\"></a>\n",
    "## 6 - Deep Q-Learning\n",
    "\n",
    "In cases where both the state and action space are discrete we can estimate the action-value function iteratively by using the Bellman equation:\n",
    "\n",
    "$$\n",
    "Q_{i+1}(s,a) = R + \\gamma \\max_{a'}Q_i(s',a')\n",
    "$$\n",
    "\n",
    "This iterative method converges to the optimal action-value function $Q^*(s,a)$ as $i\\to\\infty$. This means that the agent just needs to gradually explore the state-action space and keep updating the estimate of $Q(s,a)$ until it converges to the optimal action-value function $Q^*(s,a)$. However, in cases where the state space is continuous it becomes practically impossible to explore the entire state-action space. Consequently, this also makes it practically impossible to gradually estimate $Q(s,a)$ until it converges to $Q^*(s,a)$.\n",
    "\n",
    "In the Deep $Q$-Learning, we solve this problem by using a neural network to estimate the action-value function $Q(s,a)\\approx Q^*(s,a)$. We call this neural network a $Q$-Network and it can be trained by adjusting its weights at each iteration to minimize the mean-squared error in the Bellman equation.\n",
    "\n",
    "Unfortunately, using neural networks in reinforcement learning to estimate action-value functions has proven to be highly unstable. Luckily, there's a couple of techniques that can be employed to avoid instabilities. These techniques consist of using a ***Target Network*** and ***Experience Replay***. We will explore these two techniques in the following sections."
   ]
  },
  {
   "cell_type": "markdown",
   "metadata": {},
   "source": [
    "<a name=\"6.1\"></a>\n",
    "### 6.1 Target Network\n",
    "\n",
    "We can train the $Q$-Network by adjusting it's weights at each iteration to minimize the mean-squared error in the Bellman equation, where the target values are given by:\n",
    "\n",
    "$$\n",
    "y = R + \\gamma \\max_{a'}Q(s',a';w)\n",
    "$$\n",
    "\n",
    "where $w$ are the weights of the $Q$-Network. This means that we are adjusting the weights $w$ at each iteration to minimize the following error:\n",
    "\n",
    "$$\n",
    "\\overbrace{\\underbrace{R + \\gamma \\max_{a'}Q(s',a'; w)}_{\\rm {y~target}} - Q(s,a;w)}^{\\rm {Error}}\n",
    "$$\n",
    "\n",
    "Notice that this forms a problem because the $y$ target is changing on every iteration. Having a constantly moving target can lead to oscillations and instabilities. To avoid this, we can create\n",
    "a separate neural network for generating the $y$ targets. We call this separate neural network the **target $\\hat Q$-Network** and it will have the same architecture as the original $Q$-Network. By using the target $\\hat Q$-Network, the above error becomes:\n",
    "\n",
    "$$\n",
    "\\overbrace{\\underbrace{R + \\gamma \\max_{a'}\\hat{Q}(s',a'; w^-)}_{\\rm {y~target}} - Q(s,a;w)}^{\\rm {Error}}\n",
    "$$\n",
    "\n",
    "where $w^-$ and $w$ are the weights of the target $\\hat Q$-Network and $Q$-Network, respectively.\n",
    "\n",
    "In practice, we will use the following algorithm: every $C$ time steps we will use the $\\hat Q$-Network to generate the $y$ targets and update the weights of the target $\\hat Q$-Network using the weights of the $Q$-Network. We will update the weights $w^-$ of the the target $\\hat Q$-Network using a **soft update**. This means that we will update the weights $w^-$ using the following rule:\n",
    " \n",
    "$$\n",
    "w^-\\leftarrow \\tau w + (1 - \\tau) w^-\n",
    "$$\n",
    "\n",
    "where $\\tau\\ll 1$. By using the soft update, we are ensuring that the target values, $y$, change slowly, which greatly improves the stability of our learning algorithm."
   ]
  },
  {
   "cell_type": "markdown",
   "metadata": {
    "editable": true,
    "slideshow": {
     "slide_type": ""
    },
    "tags": []
   },
   "source": [
    "<a name=\"ex01\"></a>\n",
    "### Exercise 1\n",
    "\n",
    "In this exercise you will create the $Q$ and target $\\hat Q$ networks and set the optimizer. Remember that the Deep $Q$-Network (DQN) is a neural network that approximates the action-value function $Q(s,a)\\approx Q^*(s,a)$. It does this by learning how to map states to $Q$ values.\n",
    "\n",
    "To solve the Lunar Lander environment, we are going to employ a DQN with the following architecture:\n",
    "\n",
    "* An `Input` layer that takes `state_size` as input.\n",
    "\n",
    "* A `Dense` layer with `64` units and a `relu` activation function.\n",
    "\n",
    "* A `Dense` layer with `64` units and a `relu` activation function.\n",
    "\n",
    "* A `Dense` layer with `num_actions` units and a `linear` activation function. This will be the output layer of our network.\n",
    "\n",
    "\n",
    "In the cell below you should create the $Q$-Network and the target $\\hat Q$-Network using the model architecture described above. Remember that both the $Q$-Network and the target $\\hat Q$-Network have the same architecture.\n",
    "\n",
    "Lastly, you should set `Adam` as the optimizer with a learning rate equal to `ALPHA`. Recall that `ALPHA` was defined in the [Hyperparameters](#2) section. We should note that for this exercise you should use the already imported packages:\n",
    "```python\n",
    "from tensorflow.keras.layers import Dense, Input\n",
    "from tensorflow.keras.optimizers import Adam\n",
    "```"
   ]
  },
  {
   "cell_type": "code",
   "execution_count": 10,
   "metadata": {
    "deletable": false
   },
   "outputs": [
    {
     "name": "stderr",
     "output_type": "stream",
     "text": [
      "2024-03-26 02:51:51.061919: I external/local_xla/xla/stream_executor/cuda/cuda_executor.cc:984] could not open file to read NUMA node: /sys/bus/pci/devices/0000:01:00.0/numa_node\n",
      "Your kernel may have been built without NUMA support.\n",
      "2024-03-26 02:51:51.152643: I external/local_xla/xla/stream_executor/cuda/cuda_executor.cc:984] could not open file to read NUMA node: /sys/bus/pci/devices/0000:01:00.0/numa_node\n",
      "Your kernel may have been built without NUMA support.\n",
      "2024-03-26 02:51:51.152675: I external/local_xla/xla/stream_executor/cuda/cuda_executor.cc:984] could not open file to read NUMA node: /sys/bus/pci/devices/0000:01:00.0/numa_node\n",
      "Your kernel may have been built without NUMA support.\n",
      "2024-03-26 02:51:51.154408: I external/local_xla/xla/stream_executor/cuda/cuda_executor.cc:984] could not open file to read NUMA node: /sys/bus/pci/devices/0000:01:00.0/numa_node\n",
      "Your kernel may have been built without NUMA support.\n",
      "2024-03-26 02:51:51.154445: I external/local_xla/xla/stream_executor/cuda/cuda_executor.cc:984] could not open file to read NUMA node: /sys/bus/pci/devices/0000:01:00.0/numa_node\n",
      "Your kernel may have been built without NUMA support.\n",
      "2024-03-26 02:51:51.154455: I external/local_xla/xla/stream_executor/cuda/cuda_executor.cc:984] could not open file to read NUMA node: /sys/bus/pci/devices/0000:01:00.0/numa_node\n",
      "Your kernel may have been built without NUMA support.\n",
      "2024-03-26 02:51:51.333916: I external/local_xla/xla/stream_executor/cuda/cuda_executor.cc:984] could not open file to read NUMA node: /sys/bus/pci/devices/0000:01:00.0/numa_node\n",
      "Your kernel may have been built without NUMA support.\n",
      "2024-03-26 02:51:51.333954: I external/local_xla/xla/stream_executor/cuda/cuda_executor.cc:984] could not open file to read NUMA node: /sys/bus/pci/devices/0000:01:00.0/numa_node\n",
      "Your kernel may have been built without NUMA support.\n",
      "2024-03-26 02:51:51.333962: I tensorflow/core/common_runtime/gpu/gpu_device.cc:2019] Could not identify NUMA node of platform GPU id 0, defaulting to 0.  Your kernel may not have been built with NUMA support.\n",
      "2024-03-26 02:51:51.333981: I external/local_xla/xla/stream_executor/cuda/cuda_executor.cc:984] could not open file to read NUMA node: /sys/bus/pci/devices/0000:01:00.0/numa_node\n",
      "Your kernel may have been built without NUMA support.\n",
      "2024-03-26 02:51:51.334875: I tensorflow/core/common_runtime/gpu/gpu_device.cc:1928] Created device /job:localhost/replica:0/task:0/device:GPU:0 with 1753 MB memory:  -> device: 0, name: NVIDIA RTX A2000 Laptop GPU, pci bus id: 0000:01:00.0, compute capability: 8.6\n"
     ]
    }
   ],
   "source": [
    "# UNQ_C1\n",
    "# GRADED CELL\n",
    "\n",
    "# Create the Q-Network\n",
    "q_network = Sequential([\n",
    "    ### START CODE HERE ### \n",
    "    Input(shape=(state_size)),\n",
    "    Dense(64, activation='relu'),\n",
    "    Dense(64, activation='relu'),\n",
    "    Dense(num_actions, activation='linear') \n",
    "    ### END CODE HERE ### \n",
    "    ])\n",
    "\n",
    "# Create the target Q^-Network\n",
    "target_q_network = Sequential([\n",
    "    ### START CODE HERE ### \n",
    "    Input(shape=(state_size)),\n",
    "    Dense(64, activation='relu'),\n",
    "    Dense(64, activation='relu'),\n",
    "    Dense(num_actions, activation='linear') \n",
    "    ### END CODE HERE ###\n",
    "    ])\n",
    "\n",
    "### START CODE HERE ### \n",
    "optimizer = Adam(learning_rate=ALPHA)\n",
    "### END CODE HERE ###"
   ]
  },
  {
   "cell_type": "code",
   "execution_count": 11,
   "metadata": {
    "deletable": false,
    "editable": false
   },
   "outputs": [
    {
     "name": "stdout",
     "output_type": "stream",
     "text": [
      "\u001b[92mAll tests passed!\n",
      "\u001b[92mAll tests passed!\n",
      "\u001b[92mAll tests passed!\n"
     ]
    }
   ],
   "source": [
    "# UNIT TEST\n",
    "from public_tests import *\n",
    "\n",
    "test_network(q_network)\n",
    "test_network(target_q_network)\n",
    "test_optimizer(optimizer, ALPHA) "
   ]
  },
  {
   "cell_type": "markdown",
   "metadata": {},
   "source": [
    "<details>\n",
    "  <summary><font size=\"3\" color=\"darkgreen\"><b>Click for hints</b></font></summary>\n",
    "    \n",
    "```python\n",
    "# Create the Q-Network\n",
    "q_network = Sequential([\n",
    "    Input(shape=state_size),                      \n",
    "    Dense(units=64, activation='relu'),            \n",
    "    Dense(units=64, activation='relu'),            \n",
    "    Dense(units=num_actions, activation='linear'),\n",
    "    ])\n",
    "\n",
    "# Create the target Q^-Network\n",
    "target_q_network = Sequential([\n",
    "    Input(shape=state_size),                       \n",
    "    Dense(units=64, activation='relu'),            \n",
    "    Dense(units=64, activation='relu'),            \n",
    "    Dense(units=num_actions, activation='linear'), \n",
    "    ])\n",
    "\n",
    "optimizer = Adam(learning_rate=ALPHA)                                  \n",
    "``` "
   ]
  },
  {
   "cell_type": "markdown",
   "metadata": {},
   "source": [
    "<a name=\"6.2\"></a>\n",
    "### 6.2 Experience Replay\n",
    "\n",
    "When an agent interacts with the environment, the states, actions, and rewards the agent experiences are sequential by nature. If the agent tries to learn from these consecutive experiences it can run into problems due to the strong correlations between them. To avoid this, we employ a technique known as **Experience Replay** to generate uncorrelated experiences for training our agent. Experience replay consists of storing the agent's experiences (i.e the states, actions, and rewards the agent receives) in a memory buffer and then sampling a random mini-batch of experiences from the buffer to do the learning. The experience tuples $(S_t, A_t, R_t, S_{t+1})$ will be added to the memory buffer at each time step as the agent interacts with the environment.\n",
    "\n",
    "For convenience, we will store the experiences as named tuples."
   ]
  },
  {
   "cell_type": "code",
   "execution_count": 12,
   "metadata": {
    "deletable": false,
    "editable": false
   },
   "outputs": [],
   "source": [
    "# Store experiences as named tuples\n",
    "experience = namedtuple(\"Experience\", field_names=[\"state\", \"action\", \"reward\", \"next_state\", \"done\"])"
   ]
  },
  {
   "cell_type": "markdown",
   "metadata": {},
   "source": [
    "By using experience replay we avoid problematic correlations, oscillations and instabilities. In addition, experience replay also allows the agent to potentially use the same experience in multiple weight updates, which increases data efficiency."
   ]
  },
  {
   "cell_type": "markdown",
   "metadata": {},
   "source": [
    "<a name=\"7\"></a>\n",
    "## 7 - Deep Q-Learning Algorithm with Experience Replay\n",
    "\n",
    "Now that we know all the techniques that we are going to use, we can put them together to arrive at the Deep Q-Learning Algorithm With Experience Replay.\n",
    "<br>\n",
    "<br>\n",
    "<figure>\n",
    "  <img src = \"images/deep_q_algorithm.png\" width = 90% style = \"border: thin silver solid; padding: 0px\">\n",
    "      <figcaption style = \"text-align: center; font-style: italic\">Fig 3. Deep Q-Learning with Experience Replay.</figcaption>\n",
    "</figure>"
   ]
  },
  {
   "cell_type": "markdown",
   "metadata": {
    "editable": true,
    "slideshow": {
     "slide_type": ""
    },
    "tags": []
   },
   "source": [
    "<a name=\"ex02\"></a>\n",
    "### Exercise 2\n",
    "\n",
    "In this exercise you will implement line ***12*** of the algorithm outlined in *Fig 3* above and you will also compute the loss between the $y$ targets and the $Q(s,a)$ values. In the cell below, complete the `compute_loss` function by setting the $y$ targets equal to:\n",
    "\n",
    "$$\n",
    "\\begin{equation}\n",
    "    y_j =\n",
    "    \\begin{cases}\n",
    "      R_j & \\text{if episode terminates at step  } j+1\\\\\n",
    "      R_j + \\gamma \\max_{a'}\\hat{Q}(s_{j+1},a') & \\text{otherwise}\\\\\n",
    "    \\end{cases}       \n",
    "\\end{equation}\n",
    "$$\n",
    "\n",
    "Here are a couple of things to note:\n",
    "\n",
    "* The `compute_loss` function takes in a mini-batch of experience tuples. This mini-batch of experience tuples is unpacked to extract the `states`, `actions`, `rewards`, `next_states`, and `done_vals`. You should keep in mind that these variables are *TensorFlow Tensors* whose size will depend on the mini-batch size. For example, if the mini-batch size is `64` then both `rewards` and `done_vals` will be TensorFlow Tensors with `64` elements.\n",
    "\n",
    "\n",
    "* Using `if/else` statements to set the $y$ targets will not work when the variables are tensors with many elements. However, notice that you can use the `done_vals` to implement the above in a single line of code. To do this, recall that the `done` variable is a Boolean variable that takes the value `True` when an episode terminates at step $j+1$ and it is `False` otherwise. Taking into account that a Boolean value of `True` has the numerical value of `1` and a Boolean value of `False` has the numerical value of `0`, you can use the factor `(1 - done_vals)` to implement the above in a single line of code. Here's a hint: notice that `(1 - done_vals)` has a value of `0` when `done_vals` is `True` and a value of `1` when `done_vals` is `False`. \n",
    "\n",
    "Lastly, compute the loss by calculating the Mean-Squared Error (`MSE`) between the `y_targets` and the `q_values`. To calculate the mean-squared error you should use the already imported package `MSE`:\n",
    "```python\n",
    "from tensorflow.keras.losses import MSE\n",
    "```"
   ]
  },
  {
   "cell_type": "code",
   "execution_count": 13,
   "metadata": {
    "deletable": false,
    "editable": true,
    "slideshow": {
     "slide_type": ""
    },
    "tags": []
   },
   "outputs": [],
   "source": [
    "# UNQ_C2\n",
    "# GRADED FUNCTION: calculate_loss\n",
    "\n",
    "def compute_loss(experiences, gamma, q_network, target_q_network):\n",
    "    \"\"\" \n",
    "    Calculates the loss.\n",
    "    \n",
    "    Args:\n",
    "      experiences: (tuple) tuple of [\"state\", \"action\", \"reward\", \"next_state\", \"done\"] namedtuples\n",
    "      gamma: (float) The discount factor.\n",
    "      q_network: (tf.keras.Sequential) Keras model for predicting the q_values\n",
    "      target_q_network: (tf.keras.Sequential) Keras model for predicting the targets\n",
    "          \n",
    "    Returns:\n",
    "      loss: (TensorFlow Tensor(shape=(0,), dtype=int32)) the Mean-Squared Error between\n",
    "            the y targets and the Q(s,a) values.\n",
    "    \"\"\"\n",
    "\n",
    "    # Unpack the mini-batch of experience tuples\n",
    "    states, actions, rewards, next_states, done_vals = experiences\n",
    "    \n",
    "    # Compute max Q^(s,a)\n",
    "    max_qsa = tf.reduce_max(target_q_network(next_states), axis=-1)\n",
    "    \n",
    "    # Set y = R if episode terminates, otherwise set y = R + γ max Q^(s,a).\n",
    "    ### START CODE HERE ### \n",
    "    y_targets = rewards + gamma * (1 - done_vals) * max_qsa\n",
    "    ### END CODE HERE ###\n",
    "    \n",
    "    # Get the q_values and reshape to match y_targets\n",
    "    q_values = q_network(states)\n",
    "    q_values = tf.gather_nd(q_values, tf.stack([tf.range(q_values.shape[0]),\n",
    "                                                tf.cast(actions, tf.int32)], axis=1))\n",
    "        \n",
    "    # Compute the loss\n",
    "    ### START CODE HERE ### \n",
    "    loss = MSE(y_targets, q_values) \n",
    "    ### END CODE HERE ### \n",
    "    \n",
    "    return loss"
   ]
  },
  {
   "cell_type": "code",
   "execution_count": 14,
   "metadata": {
    "deletable": false,
    "editable": false
   },
   "outputs": [
    {
     "name": "stdout",
     "output_type": "stream",
     "text": [
      "\u001b[92mAll tests passed!\n"
     ]
    }
   ],
   "source": [
    "# UNIT TEST    \n",
    "test_compute_loss(compute_loss)"
   ]
  },
  {
   "cell_type": "markdown",
   "metadata": {
    "editable": true,
    "slideshow": {
     "slide_type": ""
    },
    "tags": []
   },
   "source": [
    "<details>\n",
    "  <summary><font size=\"3\" color=\"darkgreen\"><b>Click for hints</b></font></summary>\n",
    "    \n",
    "```python\n",
    "def compute_loss(experiences, gamma, q_network, target_q_network):\n",
    "    \"\"\" \n",
    "    Calculates the loss.\n",
    "    \n",
    "    Args:\n",
    "      experiences: (tuple) tuple of [\"state\", \"action\", \"reward\", \"next_state\", \"done\"] namedtuples\n",
    "      gamma: (float) The discount factor.\n",
    "      q_network: (tf.keras.Sequential) Keras model for predicting the q_values\n",
    "      target_q_network: (tf.keras.Sequential) Keras model for predicting the targets\n",
    "          \n",
    "    Returns:\n",
    "      loss: (TensorFlow Tensor(shape=(0,), dtype=int32)) the Mean-Squared Error between\n",
    "            the y targets and the Q(s,a) values.\n",
    "    \"\"\"\n",
    "\n",
    "    \n",
    "    # Unpack the mini-batch of experience tuples\n",
    "    states, actions, rewards, next_states, done_vals = experiences\n",
    "    \n",
    "    # Compute max Q^(s,a)\n",
    "    max_qsa = tf.reduce_max(target_q_network(next_states), axis=-1)\n",
    "    \n",
    "    # Set y = R if episode terminates, otherwise set y = R + γ max Q^(s,a).\n",
    "    y_targets = rewards + (gamma * max_qsa * (1 - done_vals))\n",
    "    \n",
    "    # Get the q_values\n",
    "    q_values = q_network(states)\n",
    "    q_values = tf.gather_nd(q_values, tf.stack([tf.range(q_values.shape[0]),\n",
    "                                                tf.cast(actions, tf.int32)], axis=1))\n",
    "    \n",
    "    # Calculate the loss\n",
    "    loss = MSE(y_targets, q_values)\n",
    "    \n",
    "    return loss\n",
    "\n",
    "``` \n",
    "    "
   ]
  },
  {
   "cell_type": "markdown",
   "metadata": {},
   "source": [
    "<a name=\"8\"></a>\n",
    "## 8 - Update the Network Weights\n",
    "\n",
    "We will use the `agent_learn` function below to implement lines ***12 -14*** of the algorithm outlined in [Fig 3](#7). The `agent_learn` function will update the weights of the $Q$ and target $\\hat Q$ networks using a custom training loop. Because we are using a custom training loop we need to retrieve the gradients via a `tf.GradientTape` instance, and then call `optimizer.apply_gradients()` to update the weights of our $Q$-Network. Note that we are also using the `@tf.function` decorator to increase performance. Without this decorator our training will take twice as long. If you would like to know more about how to increase performance with `@tf.function` take a look at the [TensorFlow documentation](https://www.tensorflow.org/guide/function).\n",
    "\n",
    "The last line of this function updates the weights of the target $\\hat Q$-Network using a [soft update](#6.1). If you want to know how this is implemented in code we encourage you to take a look at the `utils.update_target_network` function in the `utils` module."
   ]
  },
  {
   "cell_type": "code",
   "execution_count": 15,
   "metadata": {
    "deletable": false,
    "editable": false
   },
   "outputs": [],
   "source": [
    "@tf.function\n",
    "def agent_learn(experiences, gamma):\n",
    "    \"\"\"\n",
    "    Updates the weights of the Q networks.\n",
    "    \n",
    "    Args:\n",
    "      experiences: (tuple) tuple of [\"state\", \"action\", \"reward\", \"next_state\", \"done\"] namedtuples\n",
    "      gamma: (float) The discount factor.\n",
    "    \n",
    "    \"\"\"\n",
    "    \n",
    "    # Calculate the loss\n",
    "    with tf.GradientTape() as tape:\n",
    "        loss = compute_loss(experiences, gamma, q_network, target_q_network)\n",
    "\n",
    "    # Get the gradients of the loss with respect to the weights.\n",
    "    gradients = tape.gradient(loss, q_network.trainable_variables)\n",
    "    \n",
    "    # Update the weights of the q_network.\n",
    "    optimizer.apply_gradients(zip(gradients, q_network.trainable_variables))\n",
    "\n",
    "    # update the weights of target q_network\n",
    "    utils.update_target_network(q_network, target_q_network)"
   ]
  },
  {
   "cell_type": "markdown",
   "metadata": {},
   "source": [
    "<a name=\"9\"></a>\n",
    "## 9 - Train the Agent\n",
    "\n",
    "We are now ready to train our agent to solve the Lunar Lander environment. In the cell below we will implement the algorithm in [Fig 3](#7) line by line (please note that we have included the same algorithm below for easy reference. This will prevent you from scrolling up and down the notebook):\n",
    "\n",
    "* **Line 1**: We initialize the `memory_buffer` with a capacity of $N =$ `MEMORY_SIZE`. Notice that we are using a `deque` as the data structure for our `memory_buffer`.\n",
    "\n",
    "\n",
    "* **Line 2**: We skip this line since we already initialized the `q_network` in [Exercise 1](#ex01).\n",
    "\n",
    "\n",
    "* **Line 3**: We initialize the `target_q_network` by setting its weights to be equal to those of the `q_network`.\n",
    "\n",
    "\n",
    "* **Line 4**: We start the outer loop. Notice that we have set $M =$ `num_episodes = 2000`. This number is reasonable because the agent should be able to solve the Lunar Lander environment in less than `2000` episodes using this notebook's default parameters.\n",
    "\n",
    "\n",
    "* **Line 5**: We use the `.reset()` method to reset the environment to the initial state and get the initial state.\n",
    "\n",
    "\n",
    "* **Line 6**: We start the inner loop. Notice that we have set $T =$ `max_num_timesteps = 1000`. This means that the episode will automatically terminate if the episode hasn't terminated after `1000` time steps.\n",
    "\n",
    "\n",
    "* **Line 7**: The agent observes the current `state` and chooses an `action` using an $\\epsilon$-greedy policy. Our agent starts out using a value of $\\epsilon =$ `epsilon = 1` which yields an $\\epsilon$-greedy policy that is equivalent to the equiprobable random policy. This means that at the beginning of our training, the agent is just going to take random actions regardless of the observed `state`. As training progresses we will decrease the value of $\\epsilon$ slowly towards a minimum value using a given $\\epsilon$-decay rate. We want this minimum value to be close to zero because a value of $\\epsilon = 0$ will yield an $\\epsilon$-greedy policy that is equivalent to the greedy policy. This means that towards the end of training, the agent will lean towards selecting the `action` that it believes (based on its past experiences) will maximize $Q(s,a)$. We will set the minimum $\\epsilon$ value to be `0.01` and not exactly 0 because we always want to keep a little bit of exploration during training. If you want to know how this is implemented in code we encourage you to take a look at the `utils.get_action` function in the `utils` module.\n",
    "\n",
    "\n",
    "* **Line 8**: We use the `.step()` method to take the given `action` in the environment and get the `reward` and the `next_state`. \n",
    "\n",
    "\n",
    "* **Line 9**: We store the `experience(state, action, reward, next_state, done)` tuple in our `memory_buffer`. Notice that we also store the `done` variable so that we can keep track of when an episode terminates. This allowed us to set the $y$ targets in [Exercise 2](#ex02).\n",
    "\n",
    "\n",
    "* **Line 10**: We check if the conditions are met to perform a learning update. We do this by using our custom `utils.check_update_conditions` function. This function checks if $C =$ `NUM_STEPS_FOR_UPDATE = 4` time steps have occured and if our `memory_buffer` has enough experience tuples to fill a mini-batch. For example, if the mini-batch size is `64`, then our `memory_buffer` should have more than `64` experience tuples in order to pass the latter condition. If the conditions are met, then the `utils.check_update_conditions` function will return a value of `True`, otherwise it will return a value of `False`.\n",
    "\n",
    "\n",
    "* **Lines 11 - 14**: If the `update` variable is `True` then we perform a learning update. The learning update consists of sampling a random mini-batch of experience tuples from our `memory_buffer`, setting the $y$ targets, performing gradient descent, and updating the weights of the networks. We will use the `agent_learn` function we defined in [Section 8](#8) to perform the latter 3.\n",
    "\n",
    "\n",
    "* **Line 15**: At the end of each iteration of the inner loop we set `next_state` as our new `state` so that the loop can start again from this new state. In addition, we check if the episode has reached a terminal state (i.e we check if `done = True`). If a terminal state has been reached, then we break out of the inner loop.\n",
    "\n",
    "\n",
    "* **Line 16**: At the end of each iteration of the outer loop we update the value of $\\epsilon$, and check if the environment has been solved. We consider that the environment has been solved if the agent receives an average of `200` points in the last `100` episodes. If the environment has not been solved we continue the outer loop and start a new episode.\n",
    "\n",
    "Finally, we wanted to note that we have included some extra variables to keep track of the total number of points the agent received in each episode. This will help us determine if the agent has solved the environment and it will also allow us to see how our agent performed during training. We also use the `time` module to measure how long the training takes. \n",
    "\n",
    "<br>\n",
    "<br>\n",
    "<figure>\n",
    "  <img src = \"images/deep_q_algorithm.png\" width = 90% style = \"border: thin silver solid; padding: 0px\">\n",
    "      <figcaption style = \"text-align: center; font-style: italic\">Fig 4. Deep Q-Learning with Experience Replay.</figcaption>\n",
    "</figure>\n",
    "<br>\n",
    "\n",
    "**Note:** With this notebook's default parameters, the following cell takes between 10 to 15 minutes to run. "
   ]
  },
  {
   "cell_type": "code",
   "execution_count": 16,
   "metadata": {
    "deletable": false,
    "editable": true,
    "slideshow": {
     "slide_type": ""
    },
    "tags": []
   },
   "outputs": [
    {
     "name": "stderr",
     "output_type": "stream",
     "text": [
      "WARNING: All log messages before absl::InitializeLog() is called are written to STDERR\n",
      "I0000 00:00:1711421518.056665     219 service.cc:145] XLA service 0x7f8f81d4a230 initialized for platform CUDA (this does not guarantee that XLA will be used). Devices:\n",
      "I0000 00:00:1711421518.056710     219 service.cc:153]   StreamExecutor device (0): NVIDIA RTX A2000 Laptop GPU, Compute Capability 8.6\n",
      "2024-03-26 02:51:58.074349: I tensorflow/compiler/mlir/tensorflow/utils/dump_mlir_util.cc:268] disabling MLIR crash reproducer, set env var `MLIR_CRASH_REPRODUCER_DIRECTORY` to enable.\n",
      "2024-03-26 02:51:58.105922: I external/local_xla/xla/stream_executor/cuda/cuda_dnn.cc:465] Loaded cuDNN version 8906\n",
      "I0000 00:00:1711421518.173657     219 device_compiler.h:188] Compiled cluster using XLA!  This line is logged at most once for the lifetime of the process.\n"
     ]
    },
    {
     "name": "stdout",
     "output_type": "stream",
     "text": [
      "Episode 100 | Total point average of the last 100 episodes: -163.16\n",
      "Episode 200 | Total point average of the last 100 episodes: -93.427\n",
      "Episode 300 | Total point average of the last 100 episodes: -4.990\n",
      "Episode 400 | Total point average of the last 100 episodes: 145.66\n",
      "Episode 443 | Total point average of the last 100 episodes: 200.65\n",
      "\n",
      "Environment solved in 443 episodes!\n",
      "\n",
      "Total Runtime: 816.03 s (13.60 min)\n"
     ]
    }
   ],
   "source": [
    "start = time.time()\n",
    "\n",
    "num_episodes = 2000\n",
    "max_num_timesteps = 1000\n",
    "\n",
    "total_point_history = []\n",
    "\n",
    "num_p_av = 100    # number of total points to use for averaging\n",
    "epsilon = 1.0     # initial ε value for ε-greedy policy\n",
    "\n",
    "# Create a memory buffer D with capacity N\n",
    "memory_buffer = deque(maxlen=MEMORY_SIZE)\n",
    "\n",
    "# Set the target network weights equal to the Q-Network weights\n",
    "target_q_network.set_weights(q_network.get_weights())\n",
    "\n",
    "for i in range(num_episodes):\n",
    "    \n",
    "    # Reset the environment to the initial state and get the initial state\n",
    "    state, dict_info = env.reset()\n",
    "    '''print (state)\n",
    "    print (type(state))\n",
    "    print (state[0])\n",
    "    stat = np.asarray(state, dtype=np.float32)\n",
    "    print (stat)\n",
    "    print (type(stat))'''\n",
    "    total_points = 0\n",
    "    \n",
    "    for t in range(max_num_timesteps):\n",
    "        \n",
    "        # From the current state S choose an action A using an ε-greedy policy\n",
    "        '''print (\"-----------------\", i, \"   \", t,\" s---------------\")\n",
    "        print (state)\n",
    "        print (state[0])\n",
    "        print (type(state), \"---\", state.shape)\n",
    "        '''\n",
    "        state_qn = np.expand_dims(state, axis=0)  # state needs to be the right shape for the q_network\n",
    "        '''\n",
    "        print (state_qn)\n",
    "        print (type(state_qn), \"---\", state_qn.shape)\n",
    "        '''\n",
    "        q_values = q_network(state_qn)\n",
    "        \n",
    "        action = utils.get_action(q_values, epsilon)\n",
    "        \n",
    "        # Take action A and receive reward R and the next state S'\n",
    "        next_state, reward, done, _, dict_info = env.step(action)\n",
    "        \n",
    "        # Store experience tuple (S,A,R,S') in the memory buffer.\n",
    "        # We store the done variable as well for convenience.\n",
    "        memory_buffer.append(experience(state, action, reward, next_state, done))\n",
    "        \n",
    "        # Only update the network every NUM_STEPS_FOR_UPDATE time steps.\n",
    "        update = utils.check_update_conditions(t, NUM_STEPS_FOR_UPDATE, memory_buffer)\n",
    "        \n",
    "        if update:\n",
    "            # Sample random mini-batch of experience tuples (S,A,R,S') from D\n",
    "            experiences = utils.get_experiences(memory_buffer)\n",
    "            \n",
    "            # Set the y targets, perform a gradient descent step,\n",
    "            # and update the network weights.\n",
    "            agent_learn(experiences, GAMMA)\n",
    "        \n",
    "        state = next_state.copy()\n",
    "        total_points += reward\n",
    "        \n",
    "        if done:\n",
    "            break\n",
    "            \n",
    "    total_point_history.append(total_points)\n",
    "    av_latest_points = np.mean(total_point_history[-num_p_av:])\n",
    "    \n",
    "    # Update the ε value\n",
    "    epsilon = utils.get_new_eps(epsilon)\n",
    "\n",
    "    print(f\"\\rEpisode {i+1} | Total point average of the last {num_p_av} episodes: {av_latest_points:.2f}\", end=\"\")\n",
    "\n",
    "    if (i+1) % num_p_av == 0:\n",
    "        print(f\"\\rEpisode {i+1} | Total point average of the last {num_p_av} episodes: {av_latest_points:.2f}\")\n",
    "\n",
    "    # We will consider that the environment is solved if we get an\n",
    "    # average of 200 points in the last 100 episodes.\n",
    "    if av_latest_points >= 200.0:\n",
    "        print(f\"\\n\\nEnvironment solved in {i+1} episodes!\")\n",
    "        #q_network.save('lunar_lander_model.h5')\n",
    "        break\n",
    "        \n",
    "tot_time = time.time() - start\n",
    "\n",
    "print(f\"\\nTotal Runtime: {tot_time:.2f} s ({(tot_time/60):.2f} min)\")"
   ]
  },
  {
   "cell_type": "code",
   "execution_count": 17,
   "metadata": {
    "editable": true,
    "slideshow": {
     "slide_type": ""
    },
    "tags": []
   },
   "outputs": [],
   "source": [
    "q_network.save('lunar_lander_model.keras')"
   ]
  },
  {
   "cell_type": "markdown",
   "metadata": {},
   "source": [
    "We can plot the total point history along with the moving average to see how our agent improved during training. If you want to know about the different plotting options available in the `utils.plot_history` function we encourage you to take a look at the `utils` module."
   ]
  },
  {
   "cell_type": "code",
   "execution_count": 18,
   "metadata": {
    "deletable": false,
    "editable": false,
    "id": "E_EUXxurfe8m",
    "slideshow": {
     "slide_type": ""
    },
    "tags": []
   },
   "outputs": [
    {
     "data": {
      "image/png": "[encoded data removed]",
      "text/plain": [
       "<Figure size 1000x700 with 1 Axes>"
      ]
     },
     "metadata": {},
     "output_type": "display_data"
    }
   ],
   "source": [
    "# Plot the total point history along with the moving average\n",
    "utils.plot_history(total_point_history)"
   ]
  },
  {
   "cell_type": "markdown",
   "metadata": {
    "editable": true,
    "id": "c_xwgaX5MnYt",
    "slideshow": {
     "slide_type": ""
    },
    "tags": []
   },
   "source": [
    "<a name=\"10\"></a>\n",
    "## 10 - See the Trained Agent In Action\n",
    "\n",
    "Now that we have trained our agent, we can see it in action. We will use the `utils.create_video` function to create a video of our agent interacting with the environment using the trained $Q$-Network. The `utils.create_video` function uses the `imageio` library to create the video. This library produces some warnings that can be distracting, so, to suppress these warnings we run the code below."
   ]
  },
  {
   "cell_type": "code",
   "execution_count": 19,
   "metadata": {
    "deletable": false,
    "editable": false,
    "slideshow": {
     "slide_type": ""
    },
    "tags": []
   },
   "outputs": [],
   "source": [
    "# Suppress warnings from imageio\n",
    "import logging\n",
    "logging.getLogger().setLevel(logging.ERROR)"
   ]
  },
  {
   "cell_type": "markdown",
   "metadata": {
    "editable": true,
    "slideshow": {
     "slide_type": ""
    },
    "tags": []
   },
   "source": [
    "In the cell below we create a video of our agent interacting with the Lunar Lander environment using the trained `q_network`. The video is saved to the `videos` folder with the given `filename`. We use the `utils.embed_mp4` function to embed the video in the Jupyter Notebook so that we can see it here directly without having to download it.\n",
    "\n",
    "We should note that since the lunar lander starts with a random initial force applied to its center of mass, every time you run the cell below you will see a different video. If the agent was trained properly, it should be able to land the lunar lander in the landing pad every time, regardless of the initial force applied to its center of mass."
   ]
  },
  {
   "cell_type": "code",
   "execution_count": 20,
   "metadata": {
    "deletable": false,
    "editable": true,
    "id": "3Ttb_zLeJKiG",
    "slideshow": {
     "slide_type": ""
    },
    "tags": []
   },
   "outputs": [
    {
     "name": "stderr",
     "output_type": "stream",
     "text": [
      "[swscaler @ 0x62b6540] Warning: data is not aligned! This can lead to a speed loss\n"
     ]
    },
    {
     "data": {
      "text/html": [
       "\n",
       "    <video width=\"840\" height=\"480\" controls>\n",
       "    <source src=\"data:video/mp4;base64,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\" type=\"video/mp4\">\n",
       "    Your browser does not support the video tag.\n",
       "    </video>"
      ],
      "text/plain": [
       "<IPython.core.display.HTML object>"
      ]
     },
     "execution_count": 20,
     "metadata": {},
     "output_type": "execute_result"
    }
   ],
   "source": [
    "filename = \"./videos/lunar_lander.mp4\"\n",
    "reconstructed_model = tf.keras.models.load_model('lunar_lander_model.keras')\n",
    "\n",
    "utils.create_video(filename, env, reconstructed_model)\n",
    "utils.embed_mp4(filename)"
   ]
  },
  {
   "cell_type": "markdown",
   "metadata": {
    "editable": true,
    "slideshow": {
     "slide_type": ""
    },
    "tags": []
   },
   "source": [
    "<a name=\"11\"></a>\n",
    "## 11 - Congratulations!\n",
    "\n",
    "You have successfully used Deep Q-Learning with Experience Replay to train an agent to land a lunar lander safely on a landing pad on the surface of the moon. Congratulations!"
   ]
  },
  {
   "cell_type": "markdown",
   "metadata": {},
   "source": [
    "<a name=\"12\"></a>\n",
    "## 12 - References\n",
    "\n",
    "If you would like to learn more about Deep Q-Learning, we recommend you check out the following papers.\n",
    "\n",
    "\n",
    "* Mnih, V., Kavukcuoglu, K., Silver, D. et al. Human-level control through deep reinforcement learning. Nature 518, 529–533 (2015).\n",
    "\n",
    "\n",
    "* Lillicrap, T. P., Hunt, J. J., Pritzel, A., et al. Continuous Control with Deep Reinforcement Learning. ICLR (2016).\n",
    "\n",
    "\n",
    "* Mnih, V., Kavukcuoglu, K., Silver, D. et al. Playing Atari with Deep Reinforcement Learning. arXiv e-prints.  arXiv:1312.5602 (2013)."
   ]
  },
  {
   "cell_type": "markdown",
   "metadata": {
    "editable": true,
    "slideshow": {
     "slide_type": ""
    },
    "tags": []
   },
   "source": [
    "<details>\n",
    "  <summary><font size=\"2\" color=\"darkgreen\"><b>Please click here if you want to experiment with any of the non-graded code.</b></font></summary>\n",
    "    <p><i><b>Important Note: Please only do this when you've already passed the assignment to avoid problems with the autograder.</b></i>\n",
    "    <ol>\n",
    "        <li> On the notebook’s menu, click “View” > “Cell Toolbar” > “Edit Metadata”</li>\n",
    "        <li> Hit the “Edit Metadata” button next to the code cell which you want to lock/unlock</li>\n",
    "        <li> Set the attribute value for “editable” to:\n",
    "            <ul>\n",
    "                <li> “true” if you want to unlock it </li>\n",
    "                <li> “false” if you want to lock it </li>\n",
    "            </ul>\n",
    "        </li>\n",
    "        <li> On the notebook’s menu, click “View” > “Cell Toolbar” > “None” </li>\n",
    "    </ol>\n",
    "    <p> Here's a short demo of how to do the steps above: \n",
    "        <br>\n",
    "        <img src=\"https://lh3.google.com/u/0/d/14Xy_Mb17CZVgzVAgq7NCjMVBvSae3xO1\" align=\"center\" alt=\"unlock_cells.gif\">\n",
    "</details>"
   ]
  }
 ],
 "metadata": {
  "accelerator": "GPU",
  "celltoolbar": "Edit Metadata",
  "colab": {
   "collapsed_sections": [],
   "name": "TensorFlow - Lunar Lander.ipynb",
   "provenance": []
  },
  "kernelspec": {
   "display_name": "Python 3 (ipykernel)",
   "language": "python",
   "name": "python3"
  },
  "language_info": {
   "codemirror_mode": {
    "name": "ipython",
    "version": 3
   },
   "file_extension": ".py",
   "mimetype": "text/x-python",
   "name": "python",
   "nbconvert_exporter": "python",
   "pygments_lexer": "ipython3",
   "version": "3.11.0rc1"
  }
 },
 "nbformat": 4,
 "nbformat_minor": 4
}
