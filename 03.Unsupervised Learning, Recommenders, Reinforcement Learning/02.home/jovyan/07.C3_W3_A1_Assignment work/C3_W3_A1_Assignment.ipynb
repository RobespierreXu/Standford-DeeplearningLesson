{
 "cells": [
  {
   "cell_type": "markdown",
   "metadata": {},
   "source": [
    "# Deep Q-Learning - Lunar Lander\n",
    "\n",
    "In this assignment, you will train an agent to land a lunar lander safely on a landing pad on the surface of the moon.\n",
    "\n",
    "\n",
    "# Outline\n",
    "- [ 1 - Import Packages <img align=\"Right\" src=\"./images/lunar_lander.gif\" width = 60% >](#1)\n",
    "- [ 2 - Hyperparameters](#2)\n",
    "- [ 3 - The Lunar Lander Environment](#3)\n",
    "  - [ 3.1 Action Space](#3.1)\n",
    "  - [ 3.2 Observation Space](#3.2)\n",
    "  - [ 3.3 Rewards](#3.3)\n",
    "  - [ 3.4 Episode Termination](#3.4)\n",
    "- [ 4 - Load the Environment](#4)\n",
    "- [ 5 - Interacting with the Gym Environment](#5)\n",
    "    - [ 5.1 Exploring the Environment's Dynamics](#5.1)\n",
    "- [ 6 - Deep Q-Learning](#6)\n",
    "  - [ 6.1 Target Network](#6.1)\n",
    "    - [ Exercise 1](#ex01)\n",
    "  - [ 6.2 Experience Replay](#6.2)\n",
    "- [ 7 - Deep Q-Learning Algorithm with Experience Replay](#7)\n",
    "  - [ Exercise 2](#ex02)\n",
    "- [ 8 - Update the Network Weights](#8)\n",
    "- [ 9 - Train the Agent](#9)\n",
    "- [ 10 - See the Trained Agent In Action](#10)\n",
    "- [ 11 - Congratulations!](#11)\n",
    "- [ 12 - References](#12)\n"
   ]
  },
  {
   "cell_type": "markdown",
   "metadata": {},
   "source": [
    "_**NOTE:** To prevent errors from the autograder, you are not allowed to edit or delete non-graded cells in this lab. Please also refrain from adding any new cells. \n",
    "**Once you have passed this assignment** and want to experiment with any of the non-graded code, you may follow the instructions at the bottom of this notebook._"
   ]
  },
  {
   "cell_type": "markdown",
   "metadata": {
    "slideshow": {
     "slide_type": ""
    },
    "tags": []
   },
   "source": [
    "<a name=\"1\"></a>\n",
    "## 1 - Import Packages\n",
    "\n",
    "We'll make use of the following packages:\n",
    "- `numpy` is a package for scientific computing in python.\n",
    "- `deque` will be our data structure for our memory buffer.\n",
    "- `namedtuple` will be used to store the experience tuples.\n",
    "- The `gym` toolkit is a collection of environments that can be used to test reinforcement learning algorithms. We should note that in this notebook we are using `gym` version `0.24.0`.\n",
    "- `PIL.Image` and `pyvirtualdisplay` are needed to render the Lunar Lander environment.\n",
    "- We will use several modules from the `tensorflow.keras` framework for building deep learning models.\n",
    "- `utils` is a module that contains helper functions for this assignment. You do not need to modify the code in this file.\n",
    "\n",
    "Run the cell below to import all the necessary packages."
   ]
  },
  {
   "cell_type": "code",
   "execution_count": 1,
   "metadata": {
    "deletable": false,
    "editable": false,
    "id": "KYbOPKRtfQOr",
    "slideshow": {
     "slide_type": ""
    },
    "tags": []
   },
   "outputs": [
    {
     "name": "stderr",
     "output_type": "stream",
     "text": [
      "2024-03-13 09:51:56.593183: I tensorflow/core/util/port.cc:113] oneDNN custom operations are on. You may see slightly different numerical results due to floating-point round-off errors from different computation orders. To turn them off, set the environment variable `TF_ENABLE_ONEDNN_OPTS=0`.\n",
      "2024-03-13 09:51:56.625344: E external/local_xla/xla/stream_executor/cuda/cuda_dnn.cc:9261] Unable to register cuDNN factory: Attempting to register factory for plugin cuDNN when one has already been registered\n",
      "2024-03-13 09:51:56.625387: E external/local_xla/xla/stream_executor/cuda/cuda_fft.cc:607] Unable to register cuFFT factory: Attempting to register factory for plugin cuFFT when one has already been registered\n",
      "2024-03-13 09:51:56.626295: E external/local_xla/xla/stream_executor/cuda/cuda_blas.cc:1515] Unable to register cuBLAS factory: Attempting to register factory for plugin cuBLAS when one has already been registered\n",
      "2024-03-13 09:51:56.631949: I tensorflow/core/platform/cpu_feature_guard.cc:182] This TensorFlow binary is optimized to use available CPU instructions in performance-critical operations.\n",
      "To enable the following instructions: AVX2 AVX512F AVX512_VNNI FMA, in other operations, rebuild TensorFlow with the appropriate compiler flags.\n",
      "2024-03-13 09:51:57.329554: W tensorflow/compiler/tf2tensorrt/utils/py_utils.cc:38] TF-TRT Warning: Could not find TensorRT\n"
     ]
    }
   ],
   "source": [
    "import time\n",
    "from collections import deque, namedtuple\n",
    "\n",
    "import gym\n",
    "import numpy as np\n",
    "import PIL.Image\n",
    "import tensorflow as tf\n",
    "import utils\n",
    "\n",
    "from pyvirtualdisplay import Display\n",
    "from tensorflow.keras import Sequential\n",
    "from tensorflow.keras.layers import Dense, Input\n",
    "from tensorflow.keras.losses import MSE\n",
    "from tensorflow.keras.optimizers import Adam"
   ]
  },
  {
   "cell_type": "code",
   "execution_count": 2,
   "metadata": {
    "slideshow": {
     "slide_type": ""
    },
    "tags": []
   },
   "outputs": [
    {
     "name": "stdout",
     "output_type": "stream",
     "text": [
      "[]\n",
      "cudnn_version 8\n",
      "cuda_version 12.2\n"
     ]
    },
    {
     "name": "stderr",
     "output_type": "stream",
     "text": [
      "2024-03-13 09:51:58.621886: I external/local_xla/xla/stream_executor/cuda/cuda_executor.cc:887] could not open file to read NUMA node: /sys/bus/pci/devices/0000:01:00.0/numa_node\n",
      "Your kernel may have been built without NUMA support.\n",
      "2024-03-13 09:51:58.651484: W tensorflow/core/common_runtime/gpu/gpu_device.cc:2256] Cannot dlopen some GPU libraries. Please make sure the missing libraries mentioned above are installed properly if you would like to use GPU. Follow the guide at https://www.tensorflow.org/install/gpu for how to download and setup the required libraries for your platform.\n",
      "Skipping registering GPU devices...\n"
     ]
    }
   ],
   "source": [
    "print(tf.config.list_physical_devices('GPU'))\n",
    "from tensorflow.python.platform import build_info as tf_build_info\n",
    "\n",
    "print(\"cudnn_version\",tf_build_info.build_info['cudnn_version'])\n",
    "print(\"cuda_version\",tf_build_info.build_info['cuda_version'])"
   ]
  },
  {
   "cell_type": "code",
   "execution_count": 3,
   "metadata": {
    "deletable": false,
    "slideshow": {
     "slide_type": ""
    },
    "tags": []
   },
   "outputs": [],
   "source": [
    "#import pyvirtualdisplay\n",
    "#print(pyvirtualdisplay.__version__)\n",
    "#help(pyvirtualdisplay)\n",
    "# Set up a virtual display to render the Lunar Lander environment.\n",
    "#Display(visible=True, backend='xvnc', size=(840, 480)).start();\n",
    "Display(visible=0, size=(840, 480)).start();\n",
    "\n",
    "# Set the random seed for TensorFlow\n",
    "tf.random.set_seed(utils.SEED)"
   ]
  },
  {
   "cell_type": "markdown",
   "metadata": {
    "slideshow": {
     "slide_type": ""
    },
    "tags": []
   },
   "source": [
    "<a name=\"2\"></a>\n",
    "## 2 - Hyperparameters\n",
    "\n",
    "Run the cell below to set the hyperparameters."
   ]
  },
  {
   "cell_type": "code",
   "execution_count": 4,
   "metadata": {
    "deletable": false,
    "editable": false,
    "slideshow": {
     "slide_type": ""
    },
    "tags": []
   },
   "outputs": [],
   "source": [
    "MEMORY_SIZE = 100_000     # size of memory buffer\n",
    "GAMMA = 0.995             # discount factor\n",
    "ALPHA = 1e-3              # learning rate  \n",
    "NUM_STEPS_FOR_UPDATE = 4  # perform a learning update every C time steps"
   ]
  },
  {
   "cell_type": "markdown",
   "metadata": {
    "slideshow": {
     "slide_type": ""
    },
    "tags": []
   },
   "source": [
    "<a name=\"3\"></a>\n",
    "## 3 - The Lunar Lander Environment\n",
    "\n",
    "In this notebook we will be using [OpenAI's Gym Library](https://www.gymlibrary.dev/). The Gym library provides a wide variety of environments for reinforcement learning. To put it simply, an environment represents a problem or task to be solved. In this notebook, we will try to solve the Lunar Lander environment using reinforcement learning.\n",
    "\n",
    "The goal of the Lunar Lander environment is to land the lunar lander safely on the landing pad on the surface of the moon. The landing pad is designated by two flag poles and its center is at coordinates `(0,0)` but the lander is also allowed to land outside of the landing pad. The lander starts at the top center of the environment with a random initial force applied to its center of mass and has infinite fuel. The environment is considered solved if you get `200` points. \n",
    "\n",
    "<br>\n",
    "<br>\n",
    "<figure>\n",
    "  <img src = \"images/lunar_lander.gif\" width = 40%>\n",
    "      <figcaption style = \"text-align: center; font-style: italic\">Fig 1. Lunar Lander Environment.</figcaption>\n",
    "</figure>\n",
    "\n",
    "\n",
    "\n",
    "<a name=\"3.1\"></a>\n",
    "### 3.1 Action Space\n",
    "\n",
    "The agent has four discrete actions available:\n",
    "\n",
    "* Do nothing.\n",
    "* Fire right engine.\n",
    "* Fire main engine.\n",
    "* Fire left engine.\n",
    "\n",
    "Each action has a corresponding numerical value:\n",
    "\n",
    "```python\n",
    "Do nothing = 0\n",
    "Fire right engine = 1\n",
    "Fire main engine = 2\n",
    "Fire left engine = 3\n",
    "```\n",
    "\n",
    "<a name=\"3.2\"></a>\n",
    "### 3.2 Observation Space\n",
    "\n",
    "The agent's observation space consists of a state vector with 8 variables:\n",
    "\n",
    "* Its $(x,y)$ coordinates. The landing pad is always at coordinates $(0,0)$.\n",
    "* Its linear velocities $(\\dot x,\\dot y)$.\n",
    "* Its angle $\\theta$.\n",
    "* Its angular velocity $\\dot \\theta$.\n",
    "* Two booleans, $l$ and $r$, that represent whether each leg is in contact with the ground or not.\n",
    "\n",
    "<a name=\"3.3\"></a>\n",
    "### 3.3 Rewards\n",
    "\n",
    "After every step, a reward is granted. The total reward of an episode is the sum of the rewards for all the steps within that episode.\n",
    "\n",
    "For each step, the reward:\n",
    "- is increased/decreased the closer/further the lander is to the landing pad.\n",
    "- is increased/decreased the slower/faster the lander is moving.\n",
    "- is decreased the more the lander is tilted (angle not horizontal).\n",
    "- is increased by 10 points for each leg that is in contact with the ground.\n",
    "- is decreased by 0.03 points each frame a side engine is firing.\n",
    "- is decreased by 0.3 points each frame the main engine is firing.\n",
    "\n",
    "The episode receives an additional reward of -100 or +100 points for crashing or landing safely respectively.\n",
    "\n",
    "<a name=\"3.4\"></a>\n",
    "### 3.4 Episode Termination\n",
    "\n",
    "An episode ends (i.e the environment enters a terminal state) if:\n",
    "\n",
    "* The lunar lander crashes (i.e if the body of the lunar lander comes in contact with the surface of the moon).\n",
    "\n",
    "* The absolute value of the lander's $x$-coordinate is greater than 1 (i.e. it goes beyond the left or right border)\n",
    "\n",
    "You can check out the [Open AI Gym documentation](https://www.gymlibrary.dev/environments/box2d/lunar_lander/) for a full description of the environment. "
   ]
  },
  {
   "cell_type": "markdown",
   "metadata": {},
   "source": [
    "<a name=\"4\"></a>\n",
    "## 4 - Load the Environment\n",
    "\n",
    "We start by loading the `LunarLander-v2` environment from the `gym` library by using the `.make()` method. `LunarLander-v2` is the latest version of the Lunar Lander environment and you can read about its version history in the [Open AI Gym documentation](https://www.gymlibrary.dev/environments/box2d/lunar_lander/#version-history)."
   ]
  },
  {
   "cell_type": "code",
   "execution_count": 7,
   "metadata": {
    "deletable": false,
    "id": "ILVMYKewfR0n",
    "slideshow": {
     "slide_type": ""
    },
    "tags": []
   },
   "outputs": [],
   "source": [
    "#env = gym.make('LunarLander-v2')\n",
    "env = gym.make('LunarLander-v2', render_mode='rgb_array')"
   ]
  },
  {
   "cell_type": "markdown",
   "metadata": {
    "slideshow": {
     "slide_type": ""
    },
    "tags": []
   },
   "source": [
    "Once we load the environment we use the `.reset()` method to reset the environment to the initial state. The lander starts at the top center of the environment and we can render the first frame of the environment by using the `.render()` method."
   ]
  },
  {
   "cell_type": "code",
   "execution_count": 8,
   "metadata": {
    "deletable": false,
    "slideshow": {
     "slide_type": ""
    },
    "tags": []
   },
   "outputs": [
    {
     "data": {
      "image/jpeg": "[encoded data removed]",
      "image/png": "[encoded data removed]",
      "text/plain": [
       "<PIL.Image.Image image mode=RGB size=600x400>"
      ]
     },
     "execution_count": 8,
     "metadata": {},
     "output_type": "execute_result"
    }
   ],
   "source": [
    "env.reset()\n",
    "#PIL.Image.fromarray(env.render(mode='rgb_array'))\n",
    "PIL.Image.fromarray(env.render())"
   ]
  },
  {
   "cell_type": "markdown",
   "metadata": {
    "slideshow": {
     "slide_type": ""
    },
    "tags": []
   },
   "source": [
    "In order to build our neural network later on we need to know the size of the state vector and the number of valid actions. We can get this information from our environment by using the `.observation_space.shape` and `action_space.n` methods, respectively."
   ]
  },
  {
   "cell_type": "code",
   "execution_count": 7,
   "metadata": {
    "deletable": false,
    "editable": false,
    "id": "x3fdqdG4CUu2",
    "slideshow": {
     "slide_type": ""
    },
    "tags": []
   },
   "outputs": [
    {
     "name": "stdout",
     "output_type": "stream",
     "text": [
      "State Shape: (8,)\n",
      "Number of actions: 4\n"
     ]
    }
   ],
   "source": [
    "state_size = env.observation_space.shape\n",
    "num_actions = env.action_space.n\n",
    "\n",
    "print('State Shape:', state_size)\n",
    "print('Number of actions:', num_actions)"
   ]
  },
  {
   "cell_type": "markdown",
   "metadata": {
    "slideshow": {
     "slide_type": ""
    },
    "tags": []
   },
   "source": [
    "<a name=\"5\"></a>\n",
    "## 5 - Interacting with the Gym Environment\n",
    "\n",
    "The Gym library implements the standard “agent-environment loop” formalism:\n",
    "\n",
    "<br>\n",
    "<center>\n",
    "<video src = \"./videos/rl_formalism.m4v\" width=\"840\" height=\"480\" controls autoplay loop poster=\"./images/rl_formalism.png\"> </video>\n",
    "<figcaption style = \"text-align:center; font-style:italic\">Fig 2. Agent-environment Loop Formalism.</figcaption>\n",
    "</center>\n",
    "<br>\n",
    "\n",
    "In the standard “agent-environment loop” formalism, an agent interacts with the environment in discrete time steps $t=0,1,2,...$. At each time step $t$, the agent uses a policy $\\pi$ to select an action $A_t$ based on its observation of the environment's state $S_t$. The agent receives a numerical reward $R_t$ and on the next time step, moves to a new state $S_{t+1}$.\n",
    "\n",
    "<a name=\"5.1\"></a>\n",
    "### 5.1 Exploring the Environment's Dynamics\n",
    "\n",
    "In Open AI's Gym environments, we use the `.step()` method to run a single time step of the environment's dynamics. In the version of `gym` that we are using the `.step()` method accepts an action and returns four values:\n",
    "\n",
    "* `observation` (**object**): an environment-specific object representing your observation of the environment. In the Lunar Lander environment this corresponds to a numpy array containing the positions and velocities of the lander as described in section [3.2 Observation Space](#3.2).\n",
    "\n",
    "\n",
    "* `reward` (**float**): amount of reward returned as a result of taking the given action. In the Lunar Lander environment this corresponds to a float of type `numpy.float64` as described in section [3.3 Rewards](#3.3).\n",
    "\n",
    "\n",
    "* `done` (**boolean**): When done is `True`, it indicates the episode has terminated and it’s time to reset the environment. \n",
    "\n",
    "\n",
    "* `info` (**dictionary**): diagnostic information useful for debugging. We won't be using this variable in this notebook but it is shown here for completeness.\n",
    "\n",
    "To begin an episode, we need to reset the environment to an initial state. We do this by using the `.reset()` method. "
   ]
  },
  {
   "cell_type": "code",
   "execution_count": 8,
   "metadata": {
    "deletable": false,
    "slideshow": {
     "slide_type": ""
    },
    "tags": []
   },
   "outputs": [],
   "source": [
    "# Reset the environment and get the initial state.\n",
    "current_state, dictinfo = env.reset()"
   ]
  },
  {
   "cell_type": "markdown",
   "metadata": {
    "slideshow": {
     "slide_type": ""
    },
    "tags": []
   },
   "source": [
    "Once the environment is reset, the agent can start taking actions in the environment by using the `.step()` method. Note that the agent can only take one action per time step. \n",
    "\n",
    "In the cell below you can select different actions and see how the returned values change depending on the action taken. Remember that in this environment the agent has four discrete actions available and we specify them in code by using their corresponding numerical value:\n",
    "\n",
    "```python\n",
    "Do nothing = 0\n",
    "Fire right engine = 1\n",
    "Fire main engine = 2\n",
    "Fire left engine = 3\n",
    "```"
   ]
  },
  {
   "cell_type": "code",
   "execution_count": 9,
   "metadata": {
    "deletable": false,
    "slideshow": {
     "slide_type": ""
    },
    "tags": []
   },
   "outputs": [
    {
     "name": "stdout",
     "output_type": "stream",
     "text": [
      "0.26.2\n"
     ]
    },
    {
     "name": "stderr",
     "output_type": "stream",
     "text": [
      "/usr/local/lib/python3.11/dist-packages/gym/utils/passive_env_checker.py:233: DeprecationWarning: `np.bool8` is a deprecated alias for `np.bool_`.  (Deprecated NumPy 1.24)\n",
      "  if not isinstance(terminated, (bool, np.bool8)):\n"
     ]
    },
    {
     "data": {
      "text/html": [
       "<style type=\"text/css\">\n",
       "#T_6be8d th {\n",
       "  border: 1px solid grey;\n",
       "  text-align: center;\n",
       "}\n",
       "#T_6be8d tbody td {\n",
       "  border: 1px solid grey;\n",
       "  text-align: center;\n",
       "}\n",
       "#T_6be8d_row0_col0, #T_6be8d_row1_col1, #T_6be8d_row1_col2, #T_6be8d_row1_col3, #T_6be8d_row1_col4, #T_6be8d_row1_col5, #T_6be8d_row1_col6, #T_6be8d_row1_col7, #T_6be8d_row1_col8, #T_6be8d_row1_col9, #T_6be8d_row1_col10, #T_6be8d_row1_col11, #T_6be8d_row2_col0, #T_6be8d_row3_col1, #T_6be8d_row3_col2, #T_6be8d_row3_col3, #T_6be8d_row3_col4, #T_6be8d_row3_col5, #T_6be8d_row3_col6, #T_6be8d_row3_col7, #T_6be8d_row3_col8, #T_6be8d_row3_col9, #T_6be8d_row3_col10, #T_6be8d_row3_col11, #T_6be8d_row4_col1, #T_6be8d_row4_col2, #T_6be8d_row4_col3, #T_6be8d_row4_col4, #T_6be8d_row4_col5, #T_6be8d_row4_col6, #T_6be8d_row4_col7, #T_6be8d_row4_col8, #T_6be8d_row4_col9, #T_6be8d_row4_col10, #T_6be8d_row4_col11 {\n",
       "  background-color: grey;\n",
       "}\n",
       "</style>\n",
       "<table id=\"T_6be8d\">\n",
       "  <thead>\n",
       "    <tr>\n",
       "      <th class=\"blank level0\" >&nbsp;</th>\n",
       "      <th id=\"T_6be8d_level0_col0\" class=\"col_heading level0 col0\" ></th>\n",
       "      <th id=\"T_6be8d_level0_col1\" class=\"col_heading level0 col1\" colspan=\"8\">State Vector</th>\n",
       "      <th id=\"T_6be8d_level0_col9\" class=\"col_heading level0 col9\" colspan=\"3\">Derived from the State Vector (the closer to zero, the better)</th>\n",
       "    </tr>\n",
       "    <tr>\n",
       "      <th class=\"blank level1\" >&nbsp;</th>\n",
       "      <th id=\"T_6be8d_level1_col0\" class=\"col_heading level1 col0\" ></th>\n",
       "      <th id=\"T_6be8d_level1_col1\" class=\"col_heading level1 col1\" colspan=\"2\">Coordinate</th>\n",
       "      <th id=\"T_6be8d_level1_col3\" class=\"col_heading level1 col3\" colspan=\"2\">Velocity</th>\n",
       "      <th id=\"T_6be8d_level1_col5\" class=\"col_heading level1 col5\" colspan=\"2\">Tilting</th>\n",
       "      <th id=\"T_6be8d_level1_col7\" class=\"col_heading level1 col7\" colspan=\"2\">Ground contact</th>\n",
       "      <th id=\"T_6be8d_level1_col9\" class=\"col_heading level1 col9\" >Distance from landing pad</th>\n",
       "      <th id=\"T_6be8d_level1_col10\" class=\"col_heading level1 col10\" >Velocity</th>\n",
       "      <th id=\"T_6be8d_level1_col11\" class=\"col_heading level1 col11\" >Tilting Angle (absolute value)</th>\n",
       "    </tr>\n",
       "    <tr>\n",
       "      <th class=\"blank level2\" >&nbsp;</th>\n",
       "      <th id=\"T_6be8d_level2_col0\" class=\"col_heading level2 col0\" ></th>\n",
       "      <th id=\"T_6be8d_level2_col1\" class=\"col_heading level2 col1\" >X (Horizontal)</th>\n",
       "      <th id=\"T_6be8d_level2_col2\" class=\"col_heading level2 col2\" >Y (Vertical)</th>\n",
       "      <th id=\"T_6be8d_level2_col3\" class=\"col_heading level2 col3\" >X (Horizontal)</th>\n",
       "      <th id=\"T_6be8d_level2_col4\" class=\"col_heading level2 col4\" >Y (Vertical)</th>\n",
       "      <th id=\"T_6be8d_level2_col5\" class=\"col_heading level2 col5\" >Angle</th>\n",
       "      <th id=\"T_6be8d_level2_col6\" class=\"col_heading level2 col6\" >Angular Velocity</th>\n",
       "      <th id=\"T_6be8d_level2_col7\" class=\"col_heading level2 col7\" >Left Leg?</th>\n",
       "      <th id=\"T_6be8d_level2_col8\" class=\"col_heading level2 col8\" >Right Leg?</th>\n",
       "      <th id=\"T_6be8d_level2_col9\" class=\"col_heading level2 col9\" ></th>\n",
       "      <th id=\"T_6be8d_level2_col10\" class=\"col_heading level2 col10\" ></th>\n",
       "      <th id=\"T_6be8d_level2_col11\" class=\"col_heading level2 col11\" ></th>\n",
       "    </tr>\n",
       "  </thead>\n",
       "  <tbody>\n",
       "    <tr>\n",
       "      <th id=\"T_6be8d_level0_row0\" class=\"row_heading level0 row0\" >Current State</th>\n",
       "      <td id=\"T_6be8d_row0_col0\" class=\"data row0 col0\" ></td>\n",
       "      <td id=\"T_6be8d_row0_col1\" class=\"data row0 col1\" >-0.005729</td>\n",
       "      <td id=\"T_6be8d_row0_col2\" class=\"data row0 col2\" >1.400680</td>\n",
       "      <td id=\"T_6be8d_row0_col3\" class=\"data row0 col3\" >-0.580261</td>\n",
       "      <td id=\"T_6be8d_row0_col4\" class=\"data row0 col4\" >-0.455144</td>\n",
       "      <td id=\"T_6be8d_row0_col5\" class=\"data row0 col5\" >0.006645</td>\n",
       "      <td id=\"T_6be8d_row0_col6\" class=\"data row0 col6\" >0.131438</td>\n",
       "      <td id=\"T_6be8d_row0_col7\" class=\"data row0 col7\" >False</td>\n",
       "      <td id=\"T_6be8d_row0_col8\" class=\"data row0 col8\" >False</td>\n",
       "      <td id=\"T_6be8d_row0_col9\" class=\"data row0 col9\" >1.400691</td>\n",
       "      <td id=\"T_6be8d_row0_col10\" class=\"data row0 col10\" >0.737468</td>\n",
       "      <td id=\"T_6be8d_row0_col11\" class=\"data row0 col11\" >0.006645</td>\n",
       "    </tr>\n",
       "    <tr>\n",
       "      <th id=\"T_6be8d_level0_row1\" class=\"row_heading level0 row1\" >Action</th>\n",
       "      <td id=\"T_6be8d_row1_col0\" class=\"data row1 col0\" >Do nothing</td>\n",
       "      <td id=\"T_6be8d_row1_col1\" class=\"data row1 col1\" ></td>\n",
       "      <td id=\"T_6be8d_row1_col2\" class=\"data row1 col2\" ></td>\n",
       "      <td id=\"T_6be8d_row1_col3\" class=\"data row1 col3\" ></td>\n",
       "      <td id=\"T_6be8d_row1_col4\" class=\"data row1 col4\" ></td>\n",
       "      <td id=\"T_6be8d_row1_col5\" class=\"data row1 col5\" ></td>\n",
       "      <td id=\"T_6be8d_row1_col6\" class=\"data row1 col6\" ></td>\n",
       "      <td id=\"T_6be8d_row1_col7\" class=\"data row1 col7\" ></td>\n",
       "      <td id=\"T_6be8d_row1_col8\" class=\"data row1 col8\" ></td>\n",
       "      <td id=\"T_6be8d_row1_col9\" class=\"data row1 col9\" ></td>\n",
       "      <td id=\"T_6be8d_row1_col10\" class=\"data row1 col10\" ></td>\n",
       "      <td id=\"T_6be8d_row1_col11\" class=\"data row1 col11\" ></td>\n",
       "    </tr>\n",
       "    <tr>\n",
       "      <th id=\"T_6be8d_level0_row2\" class=\"row_heading level0 row2\" >Next State</th>\n",
       "      <td id=\"T_6be8d_row2_col0\" class=\"data row2 col0\" ></td>\n",
       "      <td id=\"T_6be8d_row2_col1\" class=\"data row2 col1\" >-0.011458</td>\n",
       "      <td id=\"T_6be8d_row2_col2\" class=\"data row2 col2\" >1.389863</td>\n",
       "      <td id=\"T_6be8d_row2_col3\" class=\"data row2 col3\" >-0.579477</td>\n",
       "      <td id=\"T_6be8d_row2_col4\" class=\"data row2 col4\" >-0.480778</td>\n",
       "      <td id=\"T_6be8d_row2_col5\" class=\"data row2 col5\" >0.013140</td>\n",
       "      <td id=\"T_6be8d_row2_col6\" class=\"data row2 col6\" >0.129908</td>\n",
       "      <td id=\"T_6be8d_row2_col7\" class=\"data row2 col7\" >False</td>\n",
       "      <td id=\"T_6be8d_row2_col8\" class=\"data row2 col8\" >False</td>\n",
       "      <td id=\"T_6be8d_row2_col9\" class=\"data row2 col9\" >1.389910</td>\n",
       "      <td id=\"T_6be8d_row2_col10\" class=\"data row2 col10\" >0.752955</td>\n",
       "      <td id=\"T_6be8d_row2_col11\" class=\"data row2 col11\" >0.013140</td>\n",
       "    </tr>\n",
       "    <tr>\n",
       "      <th id=\"T_6be8d_level0_row3\" class=\"row_heading level0 row3\" >Reward</th>\n",
       "      <td id=\"T_6be8d_row3_col0\" class=\"data row3 col0\" >-1.120068</td>\n",
       "      <td id=\"T_6be8d_row3_col1\" class=\"data row3 col1\" ></td>\n",
       "      <td id=\"T_6be8d_row3_col2\" class=\"data row3 col2\" ></td>\n",
       "      <td id=\"T_6be8d_row3_col3\" class=\"data row3 col3\" ></td>\n",
       "      <td id=\"T_6be8d_row3_col4\" class=\"data row3 col4\" ></td>\n",
       "      <td id=\"T_6be8d_row3_col5\" class=\"data row3 col5\" ></td>\n",
       "      <td id=\"T_6be8d_row3_col6\" class=\"data row3 col6\" ></td>\n",
       "      <td id=\"T_6be8d_row3_col7\" class=\"data row3 col7\" ></td>\n",
       "      <td id=\"T_6be8d_row3_col8\" class=\"data row3 col8\" ></td>\n",
       "      <td id=\"T_6be8d_row3_col9\" class=\"data row3 col9\" ></td>\n",
       "      <td id=\"T_6be8d_row3_col10\" class=\"data row3 col10\" ></td>\n",
       "      <td id=\"T_6be8d_row3_col11\" class=\"data row3 col11\" ></td>\n",
       "    </tr>\n",
       "    <tr>\n",
       "      <th id=\"T_6be8d_level0_row4\" class=\"row_heading level0 row4\" >Episode Terminated</th>\n",
       "      <td id=\"T_6be8d_row4_col0\" class=\"data row4 col0\" >False</td>\n",
       "      <td id=\"T_6be8d_row4_col1\" class=\"data row4 col1\" ></td>\n",
       "      <td id=\"T_6be8d_row4_col2\" class=\"data row4 col2\" ></td>\n",
       "      <td id=\"T_6be8d_row4_col3\" class=\"data row4 col3\" ></td>\n",
       "      <td id=\"T_6be8d_row4_col4\" class=\"data row4 col4\" ></td>\n",
       "      <td id=\"T_6be8d_row4_col5\" class=\"data row4 col5\" ></td>\n",
       "      <td id=\"T_6be8d_row4_col6\" class=\"data row4 col6\" ></td>\n",
       "      <td id=\"T_6be8d_row4_col7\" class=\"data row4 col7\" ></td>\n",
       "      <td id=\"T_6be8d_row4_col8\" class=\"data row4 col8\" ></td>\n",
       "      <td id=\"T_6be8d_row4_col9\" class=\"data row4 col9\" ></td>\n",
       "      <td id=\"T_6be8d_row4_col10\" class=\"data row4 col10\" ></td>\n",
       "      <td id=\"T_6be8d_row4_col11\" class=\"data row4 col11\" ></td>\n",
       "    </tr>\n",
       "  </tbody>\n",
       "</table>\n"
      ],
      "text/plain": [
       "<pandas.io.formats.style.Styler at 0x7f2acc623090>"
      ]
     },
     "metadata": {},
     "output_type": "display_data"
    }
   ],
   "source": [
    "# Select an action\n",
    "action = 0\n",
    "\n",
    "print(gym.__version__)\n",
    "\n",
    "# Run a single time step of the environment's dynamics with the given action.\n",
    "#next_state, reward, done, _ = env.step(action)\n",
    "next_state, reward, done, _1, dictinfo = env.step(action)\n",
    "\n",
    "\n",
    "# Display table with values.\n",
    "utils.display_table(current_state, action, next_state, reward, done)\n",
    "\n",
    "# Replace the `current_state` with the state after the action is taken\n",
    "current_state = next_state"
   ]
  },
  {
   "cell_type": "markdown",
   "metadata": {
    "slideshow": {
     "slide_type": ""
    },
    "tags": []
   },
   "source": [
    "In practice, when we train the agent we use a loop to allow the agent to take many consecutive actions during an episode."
   ]
  },
  {
   "cell_type": "markdown",
   "metadata": {},
   "source": [
    "<a name=\"6\"></a>\n",
    "## 6 - Deep Q-Learning\n",
    "\n",
    "In cases where both the state and action space are discrete we can estimate the action-value function iteratively by using the Bellman equation:\n",
    "\n",
    "$$\n",
    "Q_{i+1}(s,a) = R + \\gamma \\max_{a'}Q_i(s',a')\n",
    "$$\n",
    "\n",
    "This iterative method converges to the optimal action-value function $Q^*(s,a)$ as $i\\to\\infty$. This means that the agent just needs to gradually explore the state-action space and keep updating the estimate of $Q(s,a)$ until it converges to the optimal action-value function $Q^*(s,a)$. However, in cases where the state space is continuous it becomes practically impossible to explore the entire state-action space. Consequently, this also makes it practically impossible to gradually estimate $Q(s,a)$ until it converges to $Q^*(s,a)$.\n",
    "\n",
    "In the Deep $Q$-Learning, we solve this problem by using a neural network to estimate the action-value function $Q(s,a)\\approx Q^*(s,a)$. We call this neural network a $Q$-Network and it can be trained by adjusting its weights at each iteration to minimize the mean-squared error in the Bellman equation.\n",
    "\n",
    "Unfortunately, using neural networks in reinforcement learning to estimate action-value functions has proven to be highly unstable. Luckily, there's a couple of techniques that can be employed to avoid instabilities. These techniques consist of using a ***Target Network*** and ***Experience Replay***. We will explore these two techniques in the following sections."
   ]
  },
  {
   "cell_type": "markdown",
   "metadata": {},
   "source": [
    "<a name=\"6.1\"></a>\n",
    "### 6.1 Target Network\n",
    "\n",
    "We can train the $Q$-Network by adjusting it's weights at each iteration to minimize the mean-squared error in the Bellman equation, where the target values are given by:\n",
    "\n",
    "$$\n",
    "y = R + \\gamma \\max_{a'}Q(s',a';w)\n",
    "$$\n",
    "\n",
    "where $w$ are the weights of the $Q$-Network. This means that we are adjusting the weights $w$ at each iteration to minimize the following error:\n",
    "\n",
    "$$\n",
    "\\overbrace{\\underbrace{R + \\gamma \\max_{a'}Q(s',a'; w)}_{\\rm {y~target}} - Q(s,a;w)}^{\\rm {Error}}\n",
    "$$\n",
    "\n",
    "Notice that this forms a problem because the $y$ target is changing on every iteration. Having a constantly moving target can lead to oscillations and instabilities. To avoid this, we can create\n",
    "a separate neural network for generating the $y$ targets. We call this separate neural network the **target $\\hat Q$-Network** and it will have the same architecture as the original $Q$-Network. By using the target $\\hat Q$-Network, the above error becomes:\n",
    "\n",
    "$$\n",
    "\\overbrace{\\underbrace{R + \\gamma \\max_{a'}\\hat{Q}(s',a'; w^-)}_{\\rm {y~target}} - Q(s,a;w)}^{\\rm {Error}}\n",
    "$$\n",
    "\n",
    "where $w^-$ and $w$ are the weights of the target $\\hat Q$-Network and $Q$-Network, respectively.\n",
    "\n",
    "In practice, we will use the following algorithm: every $C$ time steps we will use the $\\hat Q$-Network to generate the $y$ targets and update the weights of the target $\\hat Q$-Network using the weights of the $Q$-Network. We will update the weights $w^-$ of the the target $\\hat Q$-Network using a **soft update**. This means that we will update the weights $w^-$ using the following rule:\n",
    " \n",
    "$$\n",
    "w^-\\leftarrow \\tau w + (1 - \\tau) w^-\n",
    "$$\n",
    "\n",
    "where $\\tau\\ll 1$. By using the soft update, we are ensuring that the target values, $y$, change slowly, which greatly improves the stability of our learning algorithm."
   ]
  },
  {
   "cell_type": "markdown",
   "metadata": {
    "slideshow": {
     "slide_type": ""
    },
    "tags": []
   },
   "source": [
    "<a name=\"ex01\"></a>\n",
    "### Exercise 1\n",
    "\n",
    "In this exercise you will create the $Q$ and target $\\hat Q$ networks and set the optimizer. Remember that the Deep $Q$-Network (DQN) is a neural network that approximates the action-value function $Q(s,a)\\approx Q^*(s,a)$. It does this by learning how to map states to $Q$ values.\n",
    "\n",
    "To solve the Lunar Lander environment, we are going to employ a DQN with the following architecture:\n",
    "\n",
    "* An `Input` layer that takes `state_size` as input.\n",
    "\n",
    "* A `Dense` layer with `64` units and a `relu` activation function.\n",
    "\n",
    "* A `Dense` layer with `64` units and a `relu` activation function.\n",
    "\n",
    "* A `Dense` layer with `num_actions` units and a `linear` activation function. This will be the output layer of our network.\n",
    "\n",
    "\n",
    "In the cell below you should create the $Q$-Network and the target $\\hat Q$-Network using the model architecture described above. Remember that both the $Q$-Network and the target $\\hat Q$-Network have the same architecture.\n",
    "\n",
    "Lastly, you should set `Adam` as the optimizer with a learning rate equal to `ALPHA`. Recall that `ALPHA` was defined in the [Hyperparameters](#2) section. We should note that for this exercise you should use the already imported packages:\n",
    "```python\n",
    "from tensorflow.keras.layers import Dense, Input\n",
    "from tensorflow.keras.optimizers import Adam\n",
    "```"
   ]
  },
  {
   "cell_type": "code",
   "execution_count": 10,
   "metadata": {
    "deletable": false
   },
   "outputs": [],
   "source": [
    "# UNQ_C1\n",
    "# GRADED CELL\n",
    "\n",
    "# Create the Q-Network\n",
    "q_network = Sequential([\n",
    "    ### START CODE HERE ### \n",
    "    Input(shape=(state_size)),\n",
    "    Dense(64, activation='relu'),\n",
    "    Dense(64, activation='relu'),\n",
    "    Dense(num_actions, activation='linear') \n",
    "    ### END CODE HERE ### \n",
    "    ])\n",
    "\n",
    "# Create the target Q^-Network\n",
    "target_q_network = Sequential([\n",
    "    ### START CODE HERE ### \n",
    "    Input(shape=(state_size)),\n",
    "    Dense(64, activation='relu'),\n",
    "    Dense(64, activation='relu'),\n",
    "    Dense(num_actions, activation='linear') \n",
    "    ### END CODE HERE ###\n",
    "    ])\n",
    "\n",
    "### START CODE HERE ### \n",
    "optimizer = Adam(learning_rate=ALPHA)\n",
    "### END CODE HERE ###"
   ]
  },
  {
   "cell_type": "code",
   "execution_count": 11,
   "metadata": {
    "deletable": false,
    "editable": false
   },
   "outputs": [
    {
     "name": "stdout",
     "output_type": "stream",
     "text": [
      "\u001b[92mAll tests passed!\n",
      "\u001b[92mAll tests passed!\n",
      "\u001b[92mAll tests passed!\n"
     ]
    }
   ],
   "source": [
    "# UNIT TEST\n",
    "from public_tests import *\n",
    "\n",
    "test_network(q_network)\n",
    "test_network(target_q_network)\n",
    "test_optimizer(optimizer, ALPHA) "
   ]
  },
  {
   "cell_type": "markdown",
   "metadata": {},
   "source": [
    "<details>\n",
    "  <summary><font size=\"3\" color=\"darkgreen\"><b>Click for hints</b></font></summary>\n",
    "    \n",
    "```python\n",
    "# Create the Q-Network\n",
    "q_network = Sequential([\n",
    "    Input(shape=state_size),                      \n",
    "    Dense(units=64, activation='relu'),            \n",
    "    Dense(units=64, activation='relu'),            \n",
    "    Dense(units=num_actions, activation='linear'),\n",
    "    ])\n",
    "\n",
    "# Create the target Q^-Network\n",
    "target_q_network = Sequential([\n",
    "    Input(shape=state_size),                       \n",
    "    Dense(units=64, activation='relu'),            \n",
    "    Dense(units=64, activation='relu'),            \n",
    "    Dense(units=num_actions, activation='linear'), \n",
    "    ])\n",
    "\n",
    "optimizer = Adam(learning_rate=ALPHA)                                  \n",
    "``` "
   ]
  },
  {
   "cell_type": "markdown",
   "metadata": {},
   "source": [
    "<a name=\"6.2\"></a>\n",
    "### 6.2 Experience Replay\n",
    "\n",
    "When an agent interacts with the environment, the states, actions, and rewards the agent experiences are sequential by nature. If the agent tries to learn from these consecutive experiences it can run into problems due to the strong correlations between them. To avoid this, we employ a technique known as **Experience Replay** to generate uncorrelated experiences for training our agent. Experience replay consists of storing the agent's experiences (i.e the states, actions, and rewards the agent receives) in a memory buffer and then sampling a random mini-batch of experiences from the buffer to do the learning. The experience tuples $(S_t, A_t, R_t, S_{t+1})$ will be added to the memory buffer at each time step as the agent interacts with the environment.\n",
    "\n",
    "For convenience, we will store the experiences as named tuples."
   ]
  },
  {
   "cell_type": "code",
   "execution_count": 12,
   "metadata": {
    "deletable": false,
    "editable": false
   },
   "outputs": [],
   "source": [
    "# Store experiences as named tuples\n",
    "experience = namedtuple(\"Experience\", field_names=[\"state\", \"action\", \"reward\", \"next_state\", \"done\"])"
   ]
  },
  {
   "cell_type": "markdown",
   "metadata": {},
   "source": [
    "By using experience replay we avoid problematic correlations, oscillations and instabilities. In addition, experience replay also allows the agent to potentially use the same experience in multiple weight updates, which increases data efficiency."
   ]
  },
  {
   "cell_type": "markdown",
   "metadata": {},
   "source": [
    "<a name=\"7\"></a>\n",
    "## 7 - Deep Q-Learning Algorithm with Experience Replay\n",
    "\n",
    "Now that we know all the techniques that we are going to use, we can put them together to arrive at the Deep Q-Learning Algorithm With Experience Replay.\n",
    "<br>\n",
    "<br>\n",
    "<figure>\n",
    "  <img src = \"images/deep_q_algorithm.png\" width = 90% style = \"border: thin silver solid; padding: 0px\">\n",
    "      <figcaption style = \"text-align: center; font-style: italic\">Fig 3. Deep Q-Learning with Experience Replay.</figcaption>\n",
    "</figure>"
   ]
  },
  {
   "cell_type": "markdown",
   "metadata": {
    "slideshow": {
     "slide_type": ""
    },
    "tags": []
   },
   "source": [
    "<a name=\"ex02\"></a>\n",
    "### Exercise 2\n",
    "\n",
    "In this exercise you will implement line ***12*** of the algorithm outlined in *Fig 3* above and you will also compute the loss between the $y$ targets and the $Q(s,a)$ values. In the cell below, complete the `compute_loss` function by setting the $y$ targets equal to:\n",
    "\n",
    "$$\n",
    "\\begin{equation}\n",
    "    y_j =\n",
    "    \\begin{cases}\n",
    "      R_j & \\text{if episode terminates at step  } j+1\\\\\n",
    "      R_j + \\gamma \\max_{a'}\\hat{Q}(s_{j+1},a') & \\text{otherwise}\\\\\n",
    "    \\end{cases}       \n",
    "\\end{equation}\n",
    "$$\n",
    "\n",
    "Here are a couple of things to note:\n",
    "\n",
    "* The `compute_loss` function takes in a mini-batch of experience tuples. This mini-batch of experience tuples is unpacked to extract the `states`, `actions`, `rewards`, `next_states`, and `done_vals`. You should keep in mind that these variables are *TensorFlow Tensors* whose size will depend on the mini-batch size. For example, if the mini-batch size is `64` then both `rewards` and `done_vals` will be TensorFlow Tensors with `64` elements.\n",
    "\n",
    "\n",
    "* Using `if/else` statements to set the $y$ targets will not work when the variables are tensors with many elements. However, notice that you can use the `done_vals` to implement the above in a single line of code. To do this, recall that the `done` variable is a Boolean variable that takes the value `True` when an episode terminates at step $j+1$ and it is `False` otherwise. Taking into account that a Boolean value of `True` has the numerical value of `1` and a Boolean value of `False` has the numerical value of `0`, you can use the factor `(1 - done_vals)` to implement the above in a single line of code. Here's a hint: notice that `(1 - done_vals)` has a value of `0` when `done_vals` is `True` and a value of `1` when `done_vals` is `False`. \n",
    "\n",
    "Lastly, compute the loss by calculating the Mean-Squared Error (`MSE`) between the `y_targets` and the `q_values`. To calculate the mean-squared error you should use the already imported package `MSE`:\n",
    "```python\n",
    "from tensorflow.keras.losses import MSE\n",
    "```"
   ]
  },
  {
   "cell_type": "code",
   "execution_count": 13,
   "metadata": {
    "deletable": false,
    "slideshow": {
     "slide_type": ""
    },
    "tags": []
   },
   "outputs": [],
   "source": [
    "# UNQ_C2\n",
    "# GRADED FUNCTION: calculate_loss\n",
    "\n",
    "def compute_loss(experiences, gamma, q_network, target_q_network):\n",
    "    \"\"\" \n",
    "    Calculates the loss.\n",
    "    \n",
    "    Args:\n",
    "      experiences: (tuple) tuple of [\"state\", \"action\", \"reward\", \"next_state\", \"done\"] namedtuples\n",
    "      gamma: (float) The discount factor.\n",
    "      q_network: (tf.keras.Sequential) Keras model for predicting the q_values\n",
    "      target_q_network: (tf.keras.Sequential) Keras model for predicting the targets\n",
    "          \n",
    "    Returns:\n",
    "      loss: (TensorFlow Tensor(shape=(0,), dtype=int32)) the Mean-Squared Error between\n",
    "            the y targets and the Q(s,a) values.\n",
    "    \"\"\"\n",
    "\n",
    "    # Unpack the mini-batch of experience tuples\n",
    "    states, actions, rewards, next_states, done_vals = experiences\n",
    "    \n",
    "    # Compute max Q^(s,a)\n",
    "    max_qsa = tf.reduce_max(target_q_network(next_states), axis=-1)\n",
    "    \n",
    "    # Set y = R if episode terminates, otherwise set y = R + γ max Q^(s,a).\n",
    "    ### START CODE HERE ### \n",
    "    y_targets = rewards + gamma * (1 - done_vals) * max_qsa\n",
    "    ### END CODE HERE ###\n",
    "    \n",
    "    # Get the q_values and reshape to match y_targets\n",
    "    q_values = q_network(states)\n",
    "    q_values = tf.gather_nd(q_values, tf.stack([tf.range(q_values.shape[0]),\n",
    "                                                tf.cast(actions, tf.int32)], axis=1))\n",
    "        \n",
    "    # Compute the loss\n",
    "    ### START CODE HERE ### \n",
    "    loss = MSE(y_targets, q_values) \n",
    "    ### END CODE HERE ### \n",
    "    \n",
    "    return loss"
   ]
  },
  {
   "cell_type": "code",
   "execution_count": 14,
   "metadata": {
    "deletable": false,
    "editable": false
   },
   "outputs": [
    {
     "name": "stdout",
     "output_type": "stream",
     "text": [
      "\u001b[92mAll tests passed!\n"
     ]
    }
   ],
   "source": [
    "# UNIT TEST    \n",
    "test_compute_loss(compute_loss)"
   ]
  },
  {
   "cell_type": "markdown",
   "metadata": {
    "slideshow": {
     "slide_type": ""
    },
    "tags": []
   },
   "source": [
    "<details>\n",
    "  <summary><font size=\"3\" color=\"darkgreen\"><b>Click for hints</b></font></summary>\n",
    "    \n",
    "```python\n",
    "def compute_loss(experiences, gamma, q_network, target_q_network):\n",
    "    \"\"\" \n",
    "    Calculates the loss.\n",
    "    \n",
    "    Args:\n",
    "      experiences: (tuple) tuple of [\"state\", \"action\", \"reward\", \"next_state\", \"done\"] namedtuples\n",
    "      gamma: (float) The discount factor.\n",
    "      q_network: (tf.keras.Sequential) Keras model for predicting the q_values\n",
    "      target_q_network: (tf.keras.Sequential) Keras model for predicting the targets\n",
    "          \n",
    "    Returns:\n",
    "      loss: (TensorFlow Tensor(shape=(0,), dtype=int32)) the Mean-Squared Error between\n",
    "            the y targets and the Q(s,a) values.\n",
    "    \"\"\"\n",
    "\n",
    "    \n",
    "    # Unpack the mini-batch of experience tuples\n",
    "    states, actions, rewards, next_states, done_vals = experiences\n",
    "    \n",
    "    # Compute max Q^(s,a)\n",
    "    max_qsa = tf.reduce_max(target_q_network(next_states), axis=-1)\n",
    "    \n",
    "    # Set y = R if episode terminates, otherwise set y = R + γ max Q^(s,a).\n",
    "    y_targets = rewards + (gamma * max_qsa * (1 - done_vals))\n",
    "    \n",
    "    # Get the q_values\n",
    "    q_values = q_network(states)\n",
    "    q_values = tf.gather_nd(q_values, tf.stack([tf.range(q_values.shape[0]),\n",
    "                                                tf.cast(actions, tf.int32)], axis=1))\n",
    "    \n",
    "    # Calculate the loss\n",
    "    loss = MSE(y_targets, q_values)\n",
    "    \n",
    "    return loss\n",
    "\n",
    "``` \n",
    "    "
   ]
  },
  {
   "cell_type": "markdown",
   "metadata": {},
   "source": [
    "<a name=\"8\"></a>\n",
    "## 8 - Update the Network Weights\n",
    "\n",
    "We will use the `agent_learn` function below to implement lines ***12 -14*** of the algorithm outlined in [Fig 3](#7). The `agent_learn` function will update the weights of the $Q$ and target $\\hat Q$ networks using a custom training loop. Because we are using a custom training loop we need to retrieve the gradients via a `tf.GradientTape` instance, and then call `optimizer.apply_gradients()` to update the weights of our $Q$-Network. Note that we are also using the `@tf.function` decorator to increase performance. Without this decorator our training will take twice as long. If you would like to know more about how to increase performance with `@tf.function` take a look at the [TensorFlow documentation](https://www.tensorflow.org/guide/function).\n",
    "\n",
    "The last line of this function updates the weights of the target $\\hat Q$-Network using a [soft update](#6.1). If you want to know how this is implemented in code we encourage you to take a look at the `utils.update_target_network` function in the `utils` module."
   ]
  },
  {
   "cell_type": "code",
   "execution_count": 15,
   "metadata": {
    "deletable": false,
    "editable": false
   },
   "outputs": [],
   "source": [
    "@tf.function\n",
    "def agent_learn(experiences, gamma):\n",
    "    \"\"\"\n",
    "    Updates the weights of the Q networks.\n",
    "    \n",
    "    Args:\n",
    "      experiences: (tuple) tuple of [\"state\", \"action\", \"reward\", \"next_state\", \"done\"] namedtuples\n",
    "      gamma: (float) The discount factor.\n",
    "    \n",
    "    \"\"\"\n",
    "    \n",
    "    # Calculate the loss\n",
    "    with tf.GradientTape() as tape:\n",
    "        loss = compute_loss(experiences, gamma, q_network, target_q_network)\n",
    "\n",
    "    # Get the gradients of the loss with respect to the weights.\n",
    "    gradients = tape.gradient(loss, q_network.trainable_variables)\n",
    "    \n",
    "    # Update the weights of the q_network.\n",
    "    optimizer.apply_gradients(zip(gradients, q_network.trainable_variables))\n",
    "\n",
    "    # update the weights of target q_network\n",
    "    utils.update_target_network(q_network, target_q_network)"
   ]
  },
  {
   "cell_type": "markdown",
   "metadata": {},
   "source": [
    "<a name=\"9\"></a>\n",
    "## 9 - Train the Agent\n",
    "\n",
    "We are now ready to train our agent to solve the Lunar Lander environment. In the cell below we will implement the algorithm in [Fig 3](#7) line by line (please note that we have included the same algorithm below for easy reference. This will prevent you from scrolling up and down the notebook):\n",
    "\n",
    "* **Line 1**: We initialize the `memory_buffer` with a capacity of $N =$ `MEMORY_SIZE`. Notice that we are using a `deque` as the data structure for our `memory_buffer`.\n",
    "\n",
    "\n",
    "* **Line 2**: We skip this line since we already initialized the `q_network` in [Exercise 1](#ex01).\n",
    "\n",
    "\n",
    "* **Line 3**: We initialize the `target_q_network` by setting its weights to be equal to those of the `q_network`.\n",
    "\n",
    "\n",
    "* **Line 4**: We start the outer loop. Notice that we have set $M =$ `num_episodes = 2000`. This number is reasonable because the agent should be able to solve the Lunar Lander environment in less than `2000` episodes using this notebook's default parameters.\n",
    "\n",
    "\n",
    "* **Line 5**: We use the `.reset()` method to reset the environment to the initial state and get the initial state.\n",
    "\n",
    "\n",
    "* **Line 6**: We start the inner loop. Notice that we have set $T =$ `max_num_timesteps = 1000`. This means that the episode will automatically terminate if the episode hasn't terminated after `1000` time steps.\n",
    "\n",
    "\n",
    "* **Line 7**: The agent observes the current `state` and chooses an `action` using an $\\epsilon$-greedy policy. Our agent starts out using a value of $\\epsilon =$ `epsilon = 1` which yields an $\\epsilon$-greedy policy that is equivalent to the equiprobable random policy. This means that at the beginning of our training, the agent is just going to take random actions regardless of the observed `state`. As training progresses we will decrease the value of $\\epsilon$ slowly towards a minimum value using a given $\\epsilon$-decay rate. We want this minimum value to be close to zero because a value of $\\epsilon = 0$ will yield an $\\epsilon$-greedy policy that is equivalent to the greedy policy. This means that towards the end of training, the agent will lean towards selecting the `action` that it believes (based on its past experiences) will maximize $Q(s,a)$. We will set the minimum $\\epsilon$ value to be `0.01` and not exactly 0 because we always want to keep a little bit of exploration during training. If you want to know how this is implemented in code we encourage you to take a look at the `utils.get_action` function in the `utils` module.\n",
    "\n",
    "\n",
    "* **Line 8**: We use the `.step()` method to take the given `action` in the environment and get the `reward` and the `next_state`. \n",
    "\n",
    "\n",
    "* **Line 9**: We store the `experience(state, action, reward, next_state, done)` tuple in our `memory_buffer`. Notice that we also store the `done` variable so that we can keep track of when an episode terminates. This allowed us to set the $y$ targets in [Exercise 2](#ex02).\n",
    "\n",
    "\n",
    "* **Line 10**: We check if the conditions are met to perform a learning update. We do this by using our custom `utils.check_update_conditions` function. This function checks if $C =$ `NUM_STEPS_FOR_UPDATE = 4` time steps have occured and if our `memory_buffer` has enough experience tuples to fill a mini-batch. For example, if the mini-batch size is `64`, then our `memory_buffer` should have more than `64` experience tuples in order to pass the latter condition. If the conditions are met, then the `utils.check_update_conditions` function will return a value of `True`, otherwise it will return a value of `False`.\n",
    "\n",
    "\n",
    "* **Lines 11 - 14**: If the `update` variable is `True` then we perform a learning update. The learning update consists of sampling a random mini-batch of experience tuples from our `memory_buffer`, setting the $y$ targets, performing gradient descent, and updating the weights of the networks. We will use the `agent_learn` function we defined in [Section 8](#8) to perform the latter 3.\n",
    "\n",
    "\n",
    "* **Line 15**: At the end of each iteration of the inner loop we set `next_state` as our new `state` so that the loop can start again from this new state. In addition, we check if the episode has reached a terminal state (i.e we check if `done = True`). If a terminal state has been reached, then we break out of the inner loop.\n",
    "\n",
    "\n",
    "* **Line 16**: At the end of each iteration of the outer loop we update the value of $\\epsilon$, and check if the environment has been solved. We consider that the environment has been solved if the agent receives an average of `200` points in the last `100` episodes. If the environment has not been solved we continue the outer loop and start a new episode.\n",
    "\n",
    "Finally, we wanted to note that we have included some extra variables to keep track of the total number of points the agent received in each episode. This will help us determine if the agent has solved the environment and it will also allow us to see how our agent performed during training. We also use the `time` module to measure how long the training takes. \n",
    "\n",
    "<br>\n",
    "<br>\n",
    "<figure>\n",
    "  <img src = \"images/deep_q_algorithm.png\" width = 90% style = \"border: thin silver solid; padding: 0px\">\n",
    "      <figcaption style = \"text-align: center; font-style: italic\">Fig 4. Deep Q-Learning with Experience Replay.</figcaption>\n",
    "</figure>\n",
    "<br>\n",
    "\n",
    "**Note:** With this notebook's default parameters, the following cell takes between 10 to 15 minutes to run. "
   ]
  },
  {
   "cell_type": "code",
   "execution_count": 16,
   "metadata": {
    "deletable": false,
    "slideshow": {
     "slide_type": ""
    },
    "tags": []
   },
   "outputs": [
    {
     "name": "stdout",
     "output_type": "stream",
     "text": [
      "Episode 100 | Total point average of the last 100 episodes: -165.46\n",
      "Episode 200 | Total point average of the last 100 episodes: -80.090\n",
      "Episode 300 | Total point average of the last 100 episodes: -45.79\n",
      "Episode 400 | Total point average of the last 100 episodes: -31.02\n",
      "Episode 500 | Total point average of the last 100 episodes: 18.676\n",
      "Episode 600 | Total point average of the last 100 episodes: 166.62\n",
      "Episode 700 | Total point average of the last 100 episodes: 125.48\n",
      "Episode 789 | Total point average of the last 100 episodes: 201.65\n",
      "\n",
      "Environment solved in 789 episodes!\n",
      "\n",
      "Total Runtime: 1264.26 s (21.07 min)\n"
     ]
    }
   ],
   "source": [
    "start = time.time()\n",
    "\n",
    "num_episodes = 2000\n",
    "max_num_timesteps = 1000\n",
    "\n",
    "total_point_history = []\n",
    "\n",
    "num_p_av = 100    # number of total points to use for averaging\n",
    "epsilon = 1.0     # initial ε value for ε-greedy policy\n",
    "\n",
    "# Create a memory buffer D with capacity N\n",
    "memory_buffer = deque(maxlen=MEMORY_SIZE)\n",
    "\n",
    "# Set the target network weights equal to the Q-Network weights\n",
    "target_q_network.set_weights(q_network.get_weights())\n",
    "\n",
    "for i in range(num_episodes):\n",
    "    \n",
    "    # Reset the environment to the initial state and get the initial state\n",
    "    state, dict_info = env.reset()\n",
    "    '''print (state)\n",
    "    print (type(state))\n",
    "    print (state[0])\n",
    "    stat = np.asarray(state, dtype=np.float32)\n",
    "    print (stat)\n",
    "    print (type(stat))'''\n",
    "    total_points = 0\n",
    "    \n",
    "    for t in range(max_num_timesteps):\n",
    "        \n",
    "        # From the current state S choose an action A using an ε-greedy policy\n",
    "        '''print (\"-----------------\", i, \"   \", t,\" s---------------\")\n",
    "        print (state)\n",
    "        print (state[0])\n",
    "        print (type(state), \"---\", state.shape)\n",
    "        '''\n",
    "        state_qn = np.expand_dims(state, axis=0)  # state needs to be the right shape for the q_network\n",
    "        '''\n",
    "        print (state_qn)\n",
    "        print (type(state_qn), \"---\", state_qn.shape)\n",
    "        '''\n",
    "        q_values = q_network(state_qn)\n",
    "        \n",
    "        action = utils.get_action(q_values, epsilon)\n",
    "        \n",
    "        # Take action A and receive reward R and the next state S'\n",
    "        next_state, reward, done, _, dict_info = env.step(action)\n",
    "        \n",
    "        # Store experience tuple (S,A,R,S') in the memory buffer.\n",
    "        # We store the done variable as well for convenience.\n",
    "        memory_buffer.append(experience(state, action, reward, next_state, done))\n",
    "        \n",
    "        # Only update the network every NUM_STEPS_FOR_UPDATE time steps.\n",
    "        update = utils.check_update_conditions(t, NUM_STEPS_FOR_UPDATE, memory_buffer)\n",
    "        \n",
    "        if update:\n",
    "            # Sample random mini-batch of experience tuples (S,A,R,S') from D\n",
    "            experiences = utils.get_experiences(memory_buffer)\n",
    "            \n",
    "            # Set the y targets, perform a gradient descent step,\n",
    "            # and update the network weights.\n",
    "            agent_learn(experiences, GAMMA)\n",
    "        \n",
    "        state = next_state.copy()\n",
    "        total_points += reward\n",
    "        \n",
    "        if done:\n",
    "            break\n",
    "            \n",
    "    total_point_history.append(total_points)\n",
    "    av_latest_points = np.mean(total_point_history[-num_p_av:])\n",
    "    \n",
    "    # Update the ε value\n",
    "    epsilon = utils.get_new_eps(epsilon)\n",
    "\n",
    "    print(f\"\\rEpisode {i+1} | Total point average of the last {num_p_av} episodes: {av_latest_points:.2f}\", end=\"\")\n",
    "\n",
    "    if (i+1) % num_p_av == 0:\n",
    "        print(f\"\\rEpisode {i+1} | Total point average of the last {num_p_av} episodes: {av_latest_points:.2f}\")\n",
    "\n",
    "    # We will consider that the environment is solved if we get an\n",
    "    # average of 200 points in the last 100 episodes.\n",
    "    if av_latest_points >= 200.0:\n",
    "        print(f\"\\n\\nEnvironment solved in {i+1} episodes!\")\n",
    "        #q_network.save('lunar_lander_model.h5')\n",
    "        break\n",
    "        \n",
    "tot_time = time.time() - start\n",
    "\n",
    "print(f\"\\nTotal Runtime: {tot_time:.2f} s ({(tot_time/60):.2f} min)\")"
   ]
  },
  {
   "cell_type": "code",
   "execution_count": 17,
   "metadata": {
    "slideshow": {
     "slide_type": ""
    },
    "tags": []
   },
   "outputs": [],
   "source": [
    "q_network.save('lunar_lander_model.keras')"
   ]
  },
  {
   "cell_type": "markdown",
   "metadata": {},
   "source": [
    "We can plot the total point history along with the moving average to see how our agent improved during training. If you want to know about the different plotting options available in the `utils.plot_history` function we encourage you to take a look at the `utils` module."
   ]
  },
  {
   "cell_type": "code",
   "execution_count": 18,
   "metadata": {
    "deletable": false,
    "editable": false,
    "id": "E_EUXxurfe8m",
    "slideshow": {
     "slide_type": ""
    },
    "tags": []
   },
   "outputs": [
    {
     "data": {
      "image/png": "[encoded data removed]",
      "text/plain": [
       "<Figure size 1000x700 with 1 Axes>"
      ]
     },
     "metadata": {},
     "output_type": "display_data"
    }
   ],
   "source": [
    "# Plot the total point history along with the moving average\n",
    "utils.plot_history(total_point_history)"
   ]
  },
  {
   "cell_type": "markdown",
   "metadata": {
    "id": "c_xwgaX5MnYt",
    "slideshow": {
     "slide_type": ""
    },
    "tags": []
   },
   "source": [
    "<a name=\"10\"></a>\n",
    "## 10 - See the Trained Agent In Action\n",
    "\n",
    "Now that we have trained our agent, we can see it in action. We will use the `utils.create_video` function to create a video of our agent interacting with the environment using the trained $Q$-Network. The `utils.create_video` function uses the `imageio` library to create the video. This library produces some warnings that can be distracting, so, to suppress these warnings we run the code below."
   ]
  },
  {
   "cell_type": "code",
   "execution_count": 5,
   "metadata": {
    "deletable": false,
    "editable": false,
    "slideshow": {
     "slide_type": ""
    },
    "tags": []
   },
   "outputs": [],
   "source": [
    "# Suppress warnings from imageio\n",
    "import logging\n",
    "logging.getLogger().setLevel(logging.ERROR)"
   ]
  },
  {
   "cell_type": "markdown",
   "metadata": {
    "slideshow": {
     "slide_type": ""
    },
    "tags": []
   },
   "source": [
    "In the cell below we create a video of our agent interacting with the Lunar Lander environment using the trained `q_network`. The video is saved to the `videos` folder with the given `filename`. We use the `utils.embed_mp4` function to embed the video in the Jupyter Notebook so that we can see it here directly without having to download it.\n",
    "\n",
    "We should note that since the lunar lander starts with a random initial force applied to its center of mass, every time you run the cell below you will see a different video. If the agent was trained properly, it should be able to land the lunar lander in the landing pad every time, regardless of the initial force applied to its center of mass."
   ]
  },
  {
   "cell_type": "code",
   "execution_count": 9,
   "metadata": {
    "deletable": false,
    "id": "3Ttb_zLeJKiG",
    "slideshow": {
     "slide_type": ""
    },
    "tags": []
   },
   "outputs": [
    {
     "name": "stderr",
     "output_type": "stream",
     "text": [
      "[swscaler @ 0x6918540] Warning: data is not aligned! This can lead to a speed loss\n",
      "/usr/local/lib/python3.11/dist-packages/gym/utils/passive_env_checker.py:233: DeprecationWarning: `np.bool8` is a deprecated alias for `np.bool_`.  (Deprecated NumPy 1.24)\n",
      "  if not isinstance(terminated, (bool, np.bool8)):\n"
     ]
    },
    {
     "data": {
      "text/html": [
       "\n",
       "    <video width=\"840\" height=\"480\" controls>\n",
       "    <source src=\"data:video/mp4;base64,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\" type=\"video/mp4\">\n",
       "    Your browser does not support the video tag.\n",
       "    </video>"
      ],
      "text/plain": [
       "<IPython.core.display.HTML object>"
      ]
     },
     "execution_count": 9,
     "metadata": {},
     "output_type": "execute_result"
    }
   ],
   "source": [
    "filename = \"./videos/lunar_lander.mp4\"\n",
    "#import utils as uuu\n",
    "reconstructed_model = tf.keras.models.load_model('lunar_lander_model.keras')\n",
    "\n",
    "utils.create_video(filename, env, reconstructed_model)\n",
    "utils.embed_mp4(filename)"
   ]
  },
  {
   "cell_type": "markdown",
   "metadata": {
    "slideshow": {
     "slide_type": ""
    },
    "tags": []
   },
   "source": [
    "<a name=\"11\"></a>\n",
    "## 11 - Congratulations!\n",
    "\n",
    "You have successfully used Deep Q-Learning with Experience Replay to train an agent to land a lunar lander safely on a landing pad on the surface of the moon. Congratulations!"
   ]
  },
  {
   "cell_type": "markdown",
   "metadata": {},
   "source": [
    "<a name=\"12\"></a>\n",
    "## 12 - References\n",
    "\n",
    "If you would like to learn more about Deep Q-Learning, we recommend you check out the following papers.\n",
    "\n",
    "\n",
    "* Mnih, V., Kavukcuoglu, K., Silver, D. et al. Human-level control through deep reinforcement learning. Nature 518, 529–533 (2015).\n",
    "\n",
    "\n",
    "* Lillicrap, T. P., Hunt, J. J., Pritzel, A., et al. Continuous Control with Deep Reinforcement Learning. ICLR (2016).\n",
    "\n",
    "\n",
    "* Mnih, V., Kavukcuoglu, K., Silver, D. et al. Playing Atari with Deep Reinforcement Learning. arXiv e-prints.  arXiv:1312.5602 (2013)."
   ]
  },
  {
   "cell_type": "markdown",
   "metadata": {
    "slideshow": {
     "slide_type": ""
    },
    "tags": []
   },
   "source": [
    "<details>\n",
    "  <summary><font size=\"2\" color=\"darkgreen\"><b>Please click here if you want to experiment with any of the non-graded code.</b></font></summary>\n",
    "    <p><i><b>Important Note: Please only do this when you've already passed the assignment to avoid problems with the autograder.</b></i>\n",
    "    <ol>\n",
    "        <li> On the notebook’s menu, click “View” > “Cell Toolbar” > “Edit Metadata”</li>\n",
    "        <li> Hit the “Edit Metadata” button next to the code cell which you want to lock/unlock</li>\n",
    "        <li> Set the attribute value for “editable” to:\n",
    "            <ul>\n",
    "                <li> “true” if you want to unlock it </li>\n",
    "                <li> “false” if you want to lock it </li>\n",
    "            </ul>\n",
    "        </li>\n",
    "        <li> On the notebook’s menu, click “View” > “Cell Toolbar” > “None” </li>\n",
    "    </ol>\n",
    "    <p> Here's a short demo of how to do the steps above: \n",
    "        <br>\n",
    "        <img src=\"https://lh3.google.com/u/0/d/14Xy_Mb17CZVgzVAgq7NCjMVBvSae3xO1\" align=\"center\" alt=\"unlock_cells.gif\">\n",
    "</details>"
   ]
  }
 ],
 "metadata": {
  "accelerator": "GPU",
  "celltoolbar": "Edit Metadata",
  "colab": {
   "collapsed_sections": [],
   "name": "TensorFlow - Lunar Lander.ipynb",
   "provenance": []
  },
  "kernelspec": {
   "display_name": "Python 3 (ipykernel)",
   "language": "python",
   "name": "python3"
  },
  "language_info": {
   "codemirror_mode": {
    "name": "ipython",
    "version": 3
   },
   "file_extension": ".py",
   "mimetype": "text/x-python",
   "name": "python",
   "nbconvert_exporter": "python",
   "pygments_lexer": "ipython3",
   "version": "3.9.16"
  }
 },
 "nbformat": 4,
 "nbformat_minor": 4
}
